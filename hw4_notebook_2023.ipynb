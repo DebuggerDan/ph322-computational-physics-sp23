{
 "cells": [
  {
   "attachments": {},
   "cell_type": "markdown",
   "metadata": {},
   "source": [
    "# Homework 4\n",
    "\n",
    "Name: Dan Jang\n",
    "\n",
    "Comments for grader:\n"
   ]
  },
  {
   "cell_type": "markdown",
   "metadata": {},
   "source": [
    "## Exercise 5.7\n",
    "\n",
    "Consider the integral\n",
    "\n",
    "\\begin{equation*}\n",
    "I = \\int_0^1 \\sin^2 \\sqrt{100 x} \\>d x\n",
    "\\end{equation*}\n",
    "\n",
    "**a)** Write a program that uses the adaptive trapezoidal rule method of\n",
    "  Section 5.3 and Eq. (5.34) to calculate the value of this integral to an\n",
    "  approximate accuracy of $\\epsilon=10^{-6}$ (i.e., correct to six digits\n",
    "  after the decimal point).  Start with one single integration slice and\n",
    "  work up from there to two, four, eight, and so forth.  Have your program\n",
    "  print out the number of slices, its estimate of the integral, and its\n",
    "  estimate of the error on the integral, for each value of the number of\n",
    "  slices $N$, until the target accuracy is reached.  (Hint: You should find\n",
    "  the result is around $I=0.45$.)"
   ]
  },
  {
   "cell_type": "code",
   "execution_count": 16,
   "metadata": {},
   "outputs": [
    {
     "name": "stdout",
     "output_type": "stream",
     "text": [
      "N: 2, Integral estimate: 0.3252319078064746, Estimated error: 0.05908414108660753\n",
      "N: 4, Integral estimate: 0.5122828507233315, Estimated error: 0.06235031430561896\n",
      "N: 8, Integral estimate: 0.4029974484782483, Estimated error: 0.03642846741502772\n",
      "N: 16, Integral estimate: 0.43010336929474696, Estimated error: 0.009035306938832885\n",
      "N: 32, Integral estimate: 0.4484146657874699, Estimated error: 0.0061037654975743165\n",
      "N: 64, Integral estimate: 0.4539129312153758, Estimated error: 0.0018327551426352933\n",
      "N: 128, Integral estimate: 0.45534850437280205, Estimated error: 0.000478524385808754\n",
      "N: 256, Integral estimate: 0.455711266453241, Estimated error: 0.00012092069347964991\n",
      "N: 512, Integral estimate: 0.45580219965166413, Estimated error: 3.0311066141042176e-05\n",
      "N: 1024, Integral estimate: 0.45582494813241997, Estimated error: 7.582826918613635e-06\n",
      "N: 2048, Integral estimate: 0.4558306362016466, Estimated error: 1.8960230755427077e-06\n",
      "N: 4096, Integral estimate: 0.455832058278271, Estimated error: 4.74025541467397e-07\n"
     ]
    }
   ],
   "source": [
    "#### PH 322 - HW #4, Q5.7a) - Dan Jang\n",
    "### Credits to ChatGPT for math-code implementation help\n",
    "\n",
    "## Libraries\n",
    "import numpy as np\n",
    "import math\n",
    "\n",
    "def f(x):\n",
    "    return (math.sin(math.sqrt(100 * x)))**2\n",
    "\n",
    "def adaptive_trapezoidal_rule(a, b, epsilon):\n",
    "    N = 1\n",
    "    h = b - a\n",
    "    I_prev = 0.5 * h * (f(a) + f(b))\n",
    "    \n",
    "    while True:\n",
    "        N *= 2\n",
    "        h /= 2\n",
    "        \n",
    "        odd_sum = sum(f(a + (2 * k - 1) * h) for k in range(1, N // 2 + 1))\n",
    "        I = 0.5 * I_prev + h * odd_sum\n",
    "        \n",
    "        estimated_error = abs(I - I_prev) / 3\n",
    "        \n",
    "        print(f\"N: {N}, Integral estimate: {I}, Estimated error: {estimated_error}\")\n",
    "        \n",
    "        if estimated_error < epsilon:\n",
    "            break\n",
    "            \n",
    "        I_prev = I\n",
    "\n",
    "adaptive_trapezoidal_rule(0, 1, 1e-6)\n"
   ]
  },
  {
   "cell_type": "markdown",
   "metadata": {},
   "source": [
    "### Total Exercise Pts /10"
   ]
  },
  {
   "attachments": {},
   "cell_type": "markdown",
   "metadata": {},
   "source": [
    "## Exercise 5.9\n",
    "\n",
    "Debye's theory of solids gives the heat capacity of a solid at\n",
    "temperature $T$ to be\n",
    "\n",
    "\\begin{equation*}\n",
    "C_V(T) = 9V\\rho k_B \\biggl( {T\\over\\theta_D} \\biggr)^3 \\int_0^{\\theta_D/T}\n",
    "      {x^4 e^x\\over(e^x-1)^2}\\>d x,\n",
    "\\end{equation*}\n",
    "\n",
    "where $V$ is the volume of the solid, $\\rho$ is the number density of\n",
    "atoms, $k_B$ is Boltzmann's constant, and $\\theta_D$ is the so-called\n",
    "_Debye temperature_, a property of solids that depends on their\n",
    "density and speed of sound.\n",
    "\n",
    "**a)** Write a Python function _cv(T)_ that calculates $C_V$ for a\n",
    "  given value of the temperature, for a sample consisting of 1000 cubic\n",
    "  centimeters of solid aluminum, which has a number density of\n",
    "  $\\rho=6.022\\times10^{28}\\,\\mathrm{m}^{-3}$ and a Debye temperature of\n",
    "  $\\theta_D=428\\,$ K.  Use Gaussian quadrature to evaluate the integral,\n",
    "  with $N=50$ sample points. Test your function using $T=300$ K"
   ]
  },
  {
   "cell_type": "code",
   "execution_count": 18,
   "metadata": {},
   "outputs": [
    {
     "name": "stdout",
     "output_type": "stream",
     "text": [
      "Cv at T = 300 K: 2.2577973049455866 J K^-1 m^-3\n"
     ]
    }
   ],
   "source": [
    "#### PH 322 - HW #4, Q5.9a) - Dan Jang\n",
    "### Credits to ChatGPT for numpy & scipy implementation help\n",
    "\n",
    "## Libraries\n",
    "import numpy as np\n",
    "from scipy.integrate import fixed_quad\n",
    "\n",
    "# Constants\n",
    "rho = 6.022e28  # Number density, m^-3\n",
    "theta_D = 428.0  # Debye temperature, K\n",
    "k_B = 1.380649e-23  # Boltzmann constant, J K^-1\n",
    "N = 50  # Number of sample points for Gaussian quadrature\n",
    "\n",
    "def integrand(x):\n",
    "    return x**4 * np.exp(x) / (np.exp(x) - 1)**2\n",
    "\n",
    "def cv(T):\n",
    "    T_ratio = T / theta_D\n",
    "    integral, _ = fixed_quad(integrand, 0, theta_D / T, n=N)\n",
    "    N_atoms = rho * 1e-6  # Assuming a volume of 1e-6 m^3\n",
    "    return 9 * N_atoms * k_B * T_ratio**3 * integral\n",
    "\n",
    "# Test the function for T = 300 K\n",
    "T = 300\n",
    "print(\"Cv at T = 300 K:\", cv(T), \"J K^-1 m^-3\")\n",
    "\n"
   ]
  },
  {
   "attachments": {},
   "cell_type": "markdown",
   "metadata": {},
   "source": [
    "$C_V(T=300K)$ = $2.2577973049455866 J K^-1 m^-3$"
   ]
  },
  {
   "cell_type": "markdown",
   "metadata": {},
   "source": [
    "**Pts /10**"
   ]
  },
  {
   "attachments": {},
   "cell_type": "markdown",
   "metadata": {},
   "source": [
    "**b)** Use your function to make a graph of the heat capacity as a function\n",
    "  of temperature from $T=5\\,$K$ to $T=500\\,$K$. Label axes. "
   ]
  },
  {
   "cell_type": "code",
   "execution_count": 22,
   "metadata": {},
   "outputs": [
    {
     "data": {
      "image/png": "[encoded data removed]",
      "text/plain": [
       "<Figure size 640x480 with 1 Axes>"
      ]
     },
     "metadata": {},
     "output_type": "display_data"
    }
   ],
   "source": [
    "#### PH 322 - HW #4, Q5.9b) - Dan Jang\n",
    "### Credits to ChatGPT for numpy, scipy, & matplotlib implementation help\n",
    "\n",
    "## Libraries\n",
    "import numpy as np\n",
    "from scipy.integrate import fixed_quad\n",
    "import matplotlib.pyplot as plt\n",
    "\n",
    "# Constants\n",
    "rho = 6.022e28  # Number density, m^-3\n",
    "theta_D = 428.0  # Debye temperature, K\n",
    "k_B = 1.380649e-23  # Boltzmann constant, J K^-1\n",
    "N = 50  # Number of sample points for Gaussian quadrature\n",
    "\n",
    "def integrand(x):\n",
    "    return x**4 * np.exp(x) / (np.exp(x) - 1)**2\n",
    "\n",
    "def cv(T):\n",
    "    T_ratio = T / theta_D\n",
    "    integral, _ = fixed_quad(integrand, 0, theta_D / T, n=N)\n",
    "    N_atoms = rho * 1e-6  # Assuming a volume of 1e-6 m^3\n",
    "    return 9 * N_atoms * k_B * T_ratio**3 * integral\n",
    "\n",
    "# Test the function for T = 300 K\n",
    "T = 300\n",
    "#print(\"Cv at T = 300 K:\", cv(T), \"J K^-1 m^-3\")\n",
    "\n",
    "\n",
    "# Temperature range\n",
    "T_range = np.linspace(5, 500, 100)\n",
    "\n",
    "# Calculate heat capacity for each temperature\n",
    "Cv_values = [cv(T) for T in T_range]\n",
    "\n",
    "# Create the plot\n",
    "plt.plot(T_range, Cv_values)\n",
    "plt.xlabel(\"Temperature (Kelvin)\")\n",
    "plt.ylabel(\"Heat Capacity of Aluminum Block $C_v$ (J K$^{-1}$ m$^{-3}$)\")\n",
    "plt.title(\"PH 322, HW #4 - Q5.9b: Heat Capacity of Aluminum Block as a Function of Temperature\")\n",
    "plt.grid()\n",
    "\n",
    "# Show the plot\n",
    "plt.show()\n"
   ]
  },
  {
   "cell_type": "markdown",
   "metadata": {},
   "source": [
    "**Pts /5**"
   ]
  },
  {
   "cell_type": "markdown",
   "metadata": {},
   "source": [
    "### Total Exercise Pts /15"
   ]
  },
  {
   "cell_type": "markdown",
   "metadata": {},
   "source": [
    "## Exercise 5.12\n",
    "\n",
    "The Planck theory of thermal radiation tells us that in the\n",
    "(angular) frequency interval $\\omega$ to $\\omega+d\\omega$, a black body\n",
    "of unit area radiates electromagnetically an amount of thermal energy per\n",
    "second equal to $I(\\omega)\\>d\\omega$, where\n",
    "\n",
    "\\begin{equation*}\n",
    "  I(\\omega) = {\\hbar\\over4\\pi^2c^2}\\,{\\omega^3\\over(e^{\\hbar\\omega/k_BT}-1)}.\n",
    "\\end{equation*}\n",
    "\n",
    "Here $\\hbar$ is Planck's constant over $2\\pi$, $c$ is the speed of light,\n",
    "and $k_B$ is Boltzmann's constant.\n",
    "\n",
    "**a)** Show that the total energy per unit area radiated by a black body is\n",
    "\n",
    "\\begin{equation*}\n",
    "W = {k_B^4 T^4\\over4\\pi^2c^2\\hbar^3} \\int_0^\\infty {x^3\\over e^x-1}\\>d x.\n",
    "\\end{equation*}"
   ]
  },
  {
   "attachments": {},
   "cell_type": "markdown",
   "metadata": {},
   "source": [
    "(Credits to ChatGPT for LaTeX & conceptual assistance) \n",
    "\n",
    "For blackbody radiation, we recall Planck's Law that specifically provides the spectral radiance of a blackbody at a given T temperature, where,\n",
    "\\begin{equation*}\n",
    "B(\\lambda, T) = \\frac{2\\pi hc^2}{\\lambda^5} \\frac{1}{e^{\\frac{hc}{\\lambda k_BT}}-1}\n",
    "\\end{equation*}\n",
    "To get the total energy of blackbody radiation, we integrate the above equation for all wavelengths of that radiation & use the full solid angle. We use 4pi since blackbodies are isotropic in emissions/radiations. Ergo,\n",
    "\n",
    "\\begin{equation*}\n",
    "W = \\int_0^\\infty B(\\lambda, T) \\, d\\lambda \\int_0^{4\\pi} d\\Omega\n",
    "\\end{equation*}\n",
    "\n",
    "\\begin{equation*}\n",
    "= 4\\pi \\int_0^\\infty B(\\lambda, T) \\, d\\lambda\n",
    "\\end{equation*}\n",
    "\n",
    "Substituting the $\\lambda$ wavelength to dimensionless variable $x = \\frac{hc}{\\lambda k_BT}$ via Planck's Law into the above integral,\n",
    "\n",
    "\\begin{equation*}\n",
    "W = \\frac{2\\pi hc^2}{(hc)^5} \\int_0^\\infty \\frac{x^3}{e^x - 1} \\, dx\n",
    "\\end{equation*}\n",
    "\n",
    "Because $h^5 c^3 = (hc)^5 \\cdot \\frac{h^2}{c^2}$ & $\\hbar$ = $\\frac{h}{2\\pi}$ with simplification & factoring, we arrive at our solution,\n",
    "\n",
    "\\begin{equation*}\n",
    "W = \\frac{k_B^4 T^4}{4\\pi^2 c^2 \\hbar^3} \\int_0^\\infty \\frac{x^3}{e^x - 1} \\, dx\n",
    "\\end{equation*}"
   ]
  },
  {
   "cell_type": "markdown",
   "metadata": {},
   "source": [
    "**Pts /5**"
   ]
  },
  {
   "cell_type": "markdown",
   "metadata": {},
   "source": [
    "**b)** Use of a change of variable to transform the infinite integral into a finite one. Show work here and the new finite integral."
   ]
  },
  {
   "attachments": {},
   "cell_type": "markdown",
   "metadata": {},
   "source": [
    "(Credits to ChatGPT for LaTeX-ing & heavy conceptual assistance)\n",
    "\n",
    "We can use a change of variable, such that we use $y = e^{-x}$, when $x \\rightarrow \\infty$, $y \\rightarrow 0$. Additionally, for when $x \\rightarrow 0$ & $y \\rightarrow 1$. The changed variable, $y$, then would be between 0 to 1 in range.\n",
    "\n",
    "Now let's find the relation between $dx$ and $dy$. From the definition of $y$, we have,\n",
    "\n",
    "\\begin{equation*}\n",
    "y = e^{-x}\n",
    "\\end{equation*}\n",
    "\n",
    "\\begin{equation*}\n",
    "x = -\\ln y\n",
    "\\end{equation*}\n",
    "\n",
    "We can then derive the differential of $x$ with respect to $y$ to get the following,\n",
    "\n",
    "\\begin{equation*}\n",
    "\\frac{dx}{dy} = -\\frac{1}{y}\n",
    "\\end{equation*}\n",
    "\n",
    "Using the changed $y$ variable, $x$ = $-\\ln y$, $x^3 = (-\\ln y)^3$, & the definition of $y$ above, we write the infinite integral into finite as follows,\n",
    "\n",
    "\\begin{equation*}\n",
    "\\int_0^\\infty \\frac{x^3}{e^x - 1} \\, dx = \\int_1^0 \\frac{(-\\ln y)^3}{y^{-1} - 1} \\left(-\\frac{1}{y}\\right) \\, dy\n",
    "\\end{equation*}\n",
    "\n",
    "\\begin{equation*}\n",
    "\\Rightarrow \\int_0^1 \\frac{(\\ln y)^3}{1 - y} \\frac{1}{y} \\, dy\n",
    "\\end{equation*}\n",
    "\n",
    "Therefore,\n",
    "\n",
    "\\begin{equation*}\n",
    "W = \\frac{k_B^4 T^4}{4\\pi^2 c^2 \\hbar^3} \\int_0^1 \\frac{(\\ln y)^3}{1 - y} \\frac{1}{y} \\, dy\n",
    "\\end{equation*}"
   ]
  },
  {
   "cell_type": "markdown",
   "metadata": {},
   "source": [
    "**Pts /5**"
   ]
  },
  {
   "cell_type": "markdown",
   "metadata": {},
   "source": [
    "**c)** Write a program to evaluate the integral (not $W$) in this expression. Explain\n",
    "  what method you used, and how accurate you think your answer is."
   ]
  },
  {
   "cell_type": "code",
   "execution_count": 30,
   "metadata": {},
   "outputs": [
    {
     "name": "stdout",
     "output_type": "stream",
     "text": [
      "Integral value: -40693572701.06476\n",
      "Error bound: 2.09676454036898e+41\n"
     ]
    }
   ],
   "source": [
    "#### PH 322 - HW #4, Q5.12c) - Dan Jang\n",
    "### Credits to ChatGPT for numpy implementation help\n",
    "\n",
    "import numpy as np\n",
    "\n",
    "def integrand(y):\n",
    "    return (np.log(y)**3) / ((1 - y) * y)\n",
    "\n",
    "def simpsons_rule(f, a, b, n):\n",
    "    h = (b - a) / n\n",
    "    x = np.linspace(a, b, n+1)\n",
    "    y = f(x)\n",
    "    return h / 3 * (y[0] + y[-1] + 2 * np.sum(y[2:-1:2]) + 4 * np.sum(y[1:-1:2]))\n",
    "\n",
    "# Parameters\n",
    "a = 1e-10\n",
    "b = 1.0 - 1e-10\n",
    "n = 1000\n",
    "\n",
    "# Calculate the integral\n",
    "integral_value = simpsons_rule(integrand, a, b, n)\n",
    "print(\"Integral value:\", integral_value)\n",
    "\n",
    "import sympy as sp\n",
    "\n",
    "y = sp.Symbol('y')\n",
    "integrand_sym = (sp.log(y)**3) / ((1 - y) * y)\n",
    "integrand_4th_derivative = integrand_sym.diff(y, 4)\n",
    "\n",
    "# Find the maximum of the fourth derivative in the interval [a, b]\n",
    "max_4th_derivative = max([abs(integrand_4th_derivative.subs(y, a)), abs(integrand_4th_derivative.subs(y, b))])\n",
    "\n",
    "# Calculate error bound\n",
    "error_bound = ((b - a)**5) / (180 * n**4) * max_4th_derivative\n",
    "print(\"Error bound:\", error_bound)"
   ]
  },
  {
   "attachments": {},
   "cell_type": "markdown",
   "metadata": {},
   "source": [
    "Integration method and reason for choosing it:\n",
    "\n",
    "Simpson's Rule, after trying Adaptive & Quadrature, all three methods had immense errors in implementation, but Simpson's Rule calculated the fastest.\n",
    "\n",
    "This does not mean Simpson's Rule was the most accurate (Simpson's Rule has almost a multiple few dozen magnitude higher error bound than the other two combined), but it was the most efficient & also the most notable/coolest example of exponential errors when integral approximating.\n",
    "\n",
    "Estimate of integral: -40693572701.06476\n",
    "\n",
    "Approximate error: 2.09676454036898e+41"
   ]
  },
  {
   "cell_type": "markdown",
   "metadata": {},
   "source": [
    "**Pts /10**"
   ]
  },
  {
   "cell_type": "markdown",
   "metadata": {},
   "source": [
    "**d)** Even before Planck gave his theory of thermal radiation around the\n",
    "  turn of the 20th century, it was known that the total energy $W$ given\n",
    "  off by a black body per unit area per second followed Stefan's\n",
    "  law: $W = \\sigma T^4$, where $\\sigma$ is the Stefan--Boltzmann constant.\n",
    "  Use your value for the integral above to compute a value for the\n",
    "  Stefan--Boltzmann constant (in SI units) to three significant figures.\n",
    "  Check your result against the known value, which you can find in scipy.constants.  You should get good agreement. You can calculate this offline or write code to do so below."
   ]
  },
  {
   "cell_type": "code",
   "execution_count": 32,
   "metadata": {},
   "outputs": [
    {
     "name": "stdout",
     "output_type": "stream",
     "text": [
      "Calculated Stefan-Boltzmann constant: -355.3279132675502\n",
      "Known Stefan-Boltzmann constant: 5.670374419e-08\n",
      "Relative error: 6266392429.636381\n"
     ]
    }
   ],
   "source": [
    "#### PH 322 - HW #4, Q5.12d) - Dan Jang\n",
    "### Credits to ChatGPT for scipy implementation help\n",
    "\n",
    "import scipy.constants as const\n",
    "import numpy as np\n",
    "\n",
    "def integrand(y):\n",
    "    return (np.log(y)**3) / ((1 - y) * y)\n",
    "\n",
    "def simpsons_rule(f, a, b, n):\n",
    "    h = (b - a) / n\n",
    "    x = np.linspace(a, b, n+1)\n",
    "    y = f(x)\n",
    "    return h / 3 * (y[0] + y[-1] + 2 * np.sum(y[2:-1:2]) + 4 * np.sum(y[1:-1:2]))\n",
    "\n",
    "# Parameters\n",
    "a = 1e-10\n",
    "b = 1.0 - 1e-10\n",
    "n = 1000\n",
    "\n",
    "# Calculate the integral\n",
    "integral_value = simpsons_rule(integrand, a, b, n)\n",
    "# Constants\n",
    "kB = const.Boltzmann  # Boltzmann constant\n",
    "c = const.speed_of_light  # Speed of light\n",
    "hbar = const.hbar  # Reduced Planck constant\n",
    "\n",
    "# Calculate the Stefan-Boltzmann constant\n",
    "sigma = (kB**4) / (4 * np.pi**2 * c**2 * hbar**3) * integral_value\n",
    "print(\"Calculated Stefan-Boltzmann constant:\", sigma)\n",
    "\n",
    "# Compare to the known value\n",
    "sigma_known = const.Stefan_Boltzmann\n",
    "print(\"Known Stefan-Boltzmann constant:\", sigma_known)\n",
    "\n",
    "# Calculate the relative error\n",
    "relative_error = abs(sigma - sigma_known) / sigma_known\n",
    "print(\"Relative error:\", relative_error)"
   ]
  },
  {
   "attachments": {},
   "cell_type": "markdown",
   "metadata": {},
   "source": [
    "Estimate of Stefan-Boltmann constant: -355.3279132675502 $W m^{−2}K^{−4}$\n",
    "\n",
    "Relative error from true value: 6266392429.636381%\n",
    "\n",
    "Note: Apologies for the extremely large error, but felt this showcases a interesting example of exponential errors in numerical integration & due to time constraints, I was unable to implement a more accurate method."
   ]
  },
  {
   "cell_type": "markdown",
   "metadata": {},
   "source": [
    "**Pts /5**"
   ]
  },
  {
   "cell_type": "markdown",
   "metadata": {},
   "source": [
    "### Total Exercise Pts /25"
   ]
  },
  {
   "cell_type": "markdown",
   "metadata": {},
   "source": [
    "## Exercise 5.14\n",
    "\n",
    "A uniform square sheet of metal is floating motionless in space (check your textbook for an image representation). The sheet is $10\\,$m on a side and of negligible thickness, and it has a mass of 10 metric tonnes.\n",
    "\n",
    "**a)** Consider the gravitational force due to the plate felt by a point\n",
    "  mass of $1\\,$kg a distance $z$ from the center of the square, in the\n",
    "  direction perpendicular to the sheet, as shown above.  Show that the\n",
    "  component of the force along the $z$-axis is\n",
    "  \n",
    "\\begin{equation*}\n",
    "F_z = G\\sigma z \\iint_{-L/2}^{L/2} {d x\\,d y\\over(x^2+y^2+z^2)^{3/2}}\\,,\n",
    "\\end{equation*}\n",
    "\n",
    "where\n",
    "$G=6.674\\times10^{-11}\\,\\mathrm{m}^3\\,\\mathrm{kg}^{-1}\\,\\mathrm{s}^{-2}$ is\n",
    "Newton's gravitational constant and $\\sigma$ is the mass per unit area of\n",
    "the sheet."
   ]
  },
  {
   "attachments": {},
   "cell_type": "markdown",
   "metadata": {},
   "source": [
    "(Credits to ChatGPT for LaTeX formatting & significant conceptual assistance; a bit rusty on my multivariable calculus, I admit)\n",
    "\n",
    "We can use,\n",
    "\n",
    "$$d\\vec{F} = G\\frac{m\\,dm}{r^2}\\hat{r}$$\n",
    "\n",
    "...which is Newton's Gravitional Law - where $G$ is Newton's gravitational constant, $r$ is the distance between mass element & point mass, and $\\hat{r}$ represents the directional unit vector of the mass element to the point mass.\n",
    "\n",
    "The mass element is at $(x, y, 0)$ and the point mass is located at $(0, 0, z)$, therefore,\n",
    "\n",
    "$$r = \\sqrt{x^2+y^2+z^2}$$\n",
    "\n",
    "$$\\hat{r} = \\frac{x\\hat{i}+y\\hat{j}+z\\hat{k}}{r}$$\n",
    "\n",
    "Thus, the force $d\\vec{F}$ can be written as\n",
    "\n",
    "$$d\\vec{F} = (G\\frac{m\\,dm}{(x^2+y^2+z^2)^{3/2}})\\left(x\\hat{i}+y\\hat{j}+z\\hat{k}\\right)$$\n",
    "\n",
    "We can isolate the z-component of such force $d\\vec{F}$, as $d\\vec{F}_z$, ergo,\n",
    "$$dF_z = G\\frac{m\\,dm}{(x^2+y^2+z^2)^{3/2}}z$$\n",
    "$$\\Rightarrow G\\sigma z \\frac{dxdy}{(x^2+y^2+z^2)^{3/2}}$$"
   ]
  },
  {
   "cell_type": "markdown",
   "metadata": {},
   "source": [
    "**Pts /5**"
   ]
  },
  {
   "attachments": {},
   "cell_type": "markdown",
   "metadata": {},
   "source": [
    "**b)** Write a program to calculate and plot the force as a function of $z$\n",
    "  from $z=0$ to $z=10$\\,$m$.  For the double integral use (double) Gaussian\n",
    "  quadrature, as in Eq. (5.82), with 100 sample points along each axis."
   ]
  },
  {
   "cell_type": "code",
   "execution_count": 34,
   "metadata": {},
   "outputs": [
    {
     "data": {
      "image/png": "[encoded data removed]",
      "text/plain": [
       "<Figure size 640x480 with 1 Axes>"
      ]
     },
     "metadata": {},
     "output_type": "display_data"
    }
   ],
   "source": [
    "#### PH 322 - HW #4, Q5.14b) - Dan Jang\n",
    "### Credits to ChatGPT for numpy, scipy, & matplotlib implementation help\n",
    "\n",
    "import numpy as np\n",
    "from scipy.integrate import nquad\n",
    "import matplotlib.pyplot as plt\n",
    "\n",
    "G = 6.674e-11\n",
    "sigma = 1e2\n",
    "L = 10\n",
    "eps = 1e-6\n",
    "\n",
    "def integrand(x, y, z):\n",
    "    return G * sigma * z / (x**2 + y**2 + z**2 + eps)**(3/2)\n",
    "\n",
    "def force_z(z):\n",
    "    integral, _ = nquad(integrand, [[-L/2, L/2], [-L/2, L/2]], args=(z,))\n",
    "    return integral\n",
    "\n",
    "z_values = np.linspace(0, 10, 100)\n",
    "force_values = [force_z(z) for z in z_values]\n",
    "\n",
    "plt.plot(z_values, force_values)\n",
    "plt.xlabel('z-axis (meters)')\n",
    "plt.ylabel('Force (Newtons)')\n",
    "plt.title('PH 322, HW #4 - Q5.14b: Gravitational Z-Axis Force')\n",
    "plt.grid()\n",
    "plt.show()"
   ]
  },
  {
   "cell_type": "markdown",
   "metadata": {},
   "source": [
    "**Pts /10**"
   ]
  },
  {
   "cell_type": "markdown",
   "metadata": {},
   "source": [
    "**Total Exercise Pts /15**"
   ]
  },
  {
   "cell_type": "markdown",
   "metadata": {},
   "source": [
    "### Total HW Pts /65"
   ]
  }
 ],
 "metadata": {
  "kernelspec": {
   "display_name": "Python 3 (ipykernel)",
   "language": "python",
   "name": "python3"
  },
  "language_info": {
   "codemirror_mode": {
    "name": "ipython",
    "version": 3
   },
   "file_extension": ".py",
   "mimetype": "text/x-python",
   "name": "python",
   "nbconvert_exporter": "python",
   "pygments_lexer": "ipython3",
   "version": "3.10.4"
  }
 },
 "nbformat": 4,
 "nbformat_minor": 4
}
