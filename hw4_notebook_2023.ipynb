{
 "cells": [
  {
   "cell_type": "markdown",
   "metadata": {},
   "source": [
    "# Homework 4\n",
    "\n",
    "Name:\n",
    "\n",
    "Comments for grader:\n"
   ]
  },
  {
   "cell_type": "markdown",
   "metadata": {},
   "source": [
    "## Exercise 5.7\n",
    "\n",
    "Consider the integral\n",
    "\n",
    "\\begin{equation*}\n",
    "I = \\int_0^1 \\sin^2 \\sqrt{100 x} \\>d x\n",
    "\\end{equation*}\n",
    "\n",
    "**a)** Write a program that uses the adaptive trapezoidal rule method of\n",
    "  Section 5.3 and Eq. (5.34) to calculate the value of this integral to an\n",
    "  approximate accuracy of $\\epsilon=10^{-6}$ (i.e., correct to six digits\n",
    "  after the decimal point).  Start with one single integration slice and\n",
    "  work up from there to two, four, eight, and so forth.  Have your program\n",
    "  print out the number of slices, its estimate of the integral, and its\n",
    "  estimate of the error on the integral, for each value of the number of\n",
    "  slices $N$, until the target accuracy is reached.  (Hint: You should find\n",
    "  the result is around $I=0.45$.)"
   ]
  },
  {
   "cell_type": "code",
   "execution_count": null,
   "metadata": {},
   "outputs": [],
   "source": [
    "#Type your code here"
   ]
  },
  {
   "cell_type": "markdown",
   "metadata": {},
   "source": [
    "### Total Exercise Pts /10"
   ]
  },
  {
   "cell_type": "markdown",
   "metadata": {},
   "source": [
    "## Exercise 5.9\n",
    "\n",
    "Debye's theory of solids gives the heat capacity of a solid at\n",
    "temperature $T$ to be\n",
    "\n",
    "\\begin{equation*}\n",
    "C_V(T) = 9V\\rho k_B \\biggl( {T\\over\\theta_D} \\biggr)^3 \\int_0^{\\theta_D/T}\n",
    "      {x^4 e^x\\over(e^x-1)^2}\\>d x,\n",
    "\\end{equation*}\n",
    "\n",
    "where $V$ is the volume of the solid, $\\rho$ is the number density of\n",
    "atoms, $k_B$ is Boltzmann's constant, and $\\theta_D$ is the so-called\n",
    "_Debye temperature_, a property of solids that depends on their\n",
    "density and speed of sound.\n",
    "\n",
    "**a)** Write a Python function _cv(T)_ that calculates $C_V$ for a\n",
    "  given value of the temperature, for a sample consisting of 1000 cubic\n",
    "  centimeters of solid aluminum, which has a number density of\n",
    "  $\\rho=6.022\\times10^{28}\\,\\mathrm{m}^{-3}$ and a Debye temperature of\n",
    "  $\\theta_D=428\\,$K.  Use Gaussian quadrature to evaluate the integral,\n",
    "  with $N=50$ sample points. Test your function using $T=300$K"
   ]
  },
  {
   "cell_type": "code",
   "execution_count": null,
   "metadata": {},
   "outputs": [],
   "source": [
    "#Type your code here"
   ]
  },
  {
   "cell_type": "markdown",
   "metadata": {},
   "source": [
    "$C_V(T=300K) = $"
   ]
  },
  {
   "cell_type": "markdown",
   "metadata": {},
   "source": [
    "**Pts /10**"
   ]
  },
  {
   "cell_type": "markdown",
   "metadata": {},
   "source": [
    "**b)** Use your function to make a graph of the heat capacity as a function\n",
    "  of temperature from $T=5\\,$K to $T=500\\,$K. Label axes. "
   ]
  },
  {
   "cell_type": "code",
   "execution_count": null,
   "metadata": {},
   "outputs": [],
   "source": [
    "#Type your code here"
   ]
  },
  {
   "cell_type": "markdown",
   "metadata": {},
   "source": [
    "**Pts /5**"
   ]
  },
  {
   "cell_type": "markdown",
   "metadata": {},
   "source": [
    "### Total Exercise Pts /15"
   ]
  },
  {
   "cell_type": "markdown",
   "metadata": {},
   "source": [
    "## Exercise 5.12\n",
    "\n",
    "The Planck theory of thermal radiation tells us that in the\n",
    "(angular) frequency interval $\\omega$ to $\\omega+d\\omega$, a black body\n",
    "of unit area radiates electromagnetically an amount of thermal energy per\n",
    "second equal to $I(\\omega)\\>d\\omega$, where\n",
    "\n",
    "\\begin{equation*}\n",
    "  I(\\omega) = {\\hbar\\over4\\pi^2c^2}\\,{\\omega^3\\over(e^{\\hbar\\omega/k_BT}-1)}.\n",
    "\\end{equation*}\n",
    "\n",
    "Here $\\hbar$ is Planck's constant over $2\\pi$, $c$ is the speed of light,\n",
    "and $k_B$ is Boltzmann's constant.\n",
    "\n",
    "**a)** Show that the total energy per unit area radiated by a black body is\n",
    "\n",
    "\\begin{equation*}\n",
    "W = {k_B^4 T^4\\over4\\pi^2c^2\\hbar^3} \\int_0^\\infty {x^3\\over e^x-1}\\>d x.\n",
    "\\end{equation*}"
   ]
  },
  {
   "cell_type": "markdown",
   "metadata": {},
   "source": [
    "Type your answer here or insert an image"
   ]
  },
  {
   "cell_type": "markdown",
   "metadata": {},
   "source": [
    "**Pts /5**"
   ]
  },
  {
   "cell_type": "markdown",
   "metadata": {},
   "source": [
    "**b)** Use of a change of variable to transform the infinite integral into a finite one. Show work here and the new finite integral."
   ]
  },
  {
   "cell_type": "markdown",
   "metadata": {},
   "source": [
    "Type your answer here or insert an image"
   ]
  },
  {
   "cell_type": "markdown",
   "metadata": {},
   "source": [
    "**Pts /5**"
   ]
  },
  {
   "cell_type": "markdown",
   "metadata": {},
   "source": [
    "**c)** Write a program to evaluate the integral (not $W$) in this expression. Explain\n",
    "  what method you used, and how accurate you think your answer is."
   ]
  },
  {
   "cell_type": "code",
   "execution_count": 1,
   "metadata": {},
   "outputs": [],
   "source": [
    "#Type your code here"
   ]
  },
  {
   "cell_type": "markdown",
   "metadata": {},
   "source": [
    "Integration method and reason for choosing it: \n",
    "\n",
    "Estimate of integral:\n",
    "\n",
    "Approximate error: "
   ]
  },
  {
   "cell_type": "markdown",
   "metadata": {},
   "source": [
    "**Pts /10**"
   ]
  },
  {
   "cell_type": "markdown",
   "metadata": {},
   "source": [
    "**d)** Even before Planck gave his theory of thermal radiation around the\n",
    "  turn of the 20th century, it was known that the total energy $W$ given\n",
    "  off by a black body per unit area per second followed Stefan's\n",
    "  law: $W = \\sigma T^4$, where $\\sigma$ is the Stefan--Boltzmann constant.\n",
    "  Use your value for the integral above to compute a value for the\n",
    "  Stefan--Boltzmann constant (in SI units) to three significant figures.\n",
    "  Check your result against the known value, which you can find in scipy.constants.  You should get good agreement. You can calculate this offline or write code to do so below."
   ]
  },
  {
   "cell_type": "code",
   "execution_count": null,
   "metadata": {},
   "outputs": [],
   "source": []
  },
  {
   "cell_type": "markdown",
   "metadata": {},
   "source": [
    "Estimate of Stefan-Boltmann constant: ________ $W m^{−2}K^{−4}$\n",
    "\n",
    "Relative error from true value: ______%"
   ]
  },
  {
   "cell_type": "markdown",
   "metadata": {},
   "source": [
    "**Pts /5**"
   ]
  },
  {
   "cell_type": "markdown",
   "metadata": {},
   "source": [
    "### Total Exercise Pts /25"
   ]
  },
  {
   "cell_type": "markdown",
   "metadata": {},
   "source": [
    "## Exercise 5.14\n",
    "\n",
    "A uniform square sheet of metal is floating motionless in space (check your textbook for an image representation). The sheet is $10\\,$m on a side and of negligible thickness, and it has a mass of 10 metric tonnes.\n",
    "\n",
    "**a)** Consider the gravitational force due to the plate felt by a point\n",
    "  mass of $1\\,$kg a distance $z$ from the center of the square, in the\n",
    "  direction perpendicular to the sheet, as shown above.  Show that the\n",
    "  component of the force along the $z$-axis is\n",
    "  \n",
    "\\begin{equation*}\n",
    "F_z = G\\sigma z \\iint_{-L/2}^{L/2} {d x\\,d y\\over(x^2+y^2+z^2)^{3/2}}\\,,\n",
    "\\end{equation*}\n",
    "\n",
    "where\n",
    "$G=6.674\\times10^{-11}\\,\\mathrm{m}^3\\,\\mathrm{kg}^{-1}\\,\\mathrm{s}^{-2}$ is\n",
    "Newton's gravitational constant and $\\sigma$ is the mass per unit area of\n",
    "the sheet."
   ]
  },
  {
   "cell_type": "markdown",
   "metadata": {},
   "source": [
    "Type your answer here or insert an image"
   ]
  },
  {
   "cell_type": "markdown",
   "metadata": {},
   "source": [
    "**Pts /5**"
   ]
  },
  {
   "cell_type": "markdown",
   "metadata": {},
   "source": [
    "**b)** Write a program to calculate and plot the force as a function of $z$\n",
    "  from $z=0$ to $z=10\\,$m.  For the double integral use (double) Gaussian\n",
    "  quadrature, as in Eq. (5.82), with 100 sample points along each axis."
   ]
  },
  {
   "cell_type": "code",
   "execution_count": null,
   "metadata": {},
   "outputs": [],
   "source": [
    "#Type your code here"
   ]
  },
  {
   "cell_type": "markdown",
   "metadata": {},
   "source": [
    "**Pts /10**"
   ]
  },
  {
   "cell_type": "markdown",
   "metadata": {},
   "source": [
    "**Total Exercise Pts /15**"
   ]
  },
  {
   "cell_type": "markdown",
   "metadata": {},
   "source": [
    "### Total HW Pts /65"
   ]
  },
  {
   "cell_type": "code",
   "execution_count": null,
   "metadata": {},
   "outputs": [],
   "source": []
  }
 ],
 "metadata": {
  "kernelspec": {
   "display_name": "Python 3 (ipykernel)",
   "language": "python",
   "name": "python3"
  },
  "language_info": {
   "codemirror_mode": {
    "name": "ipython",
    "version": 3
   },
   "file_extension": ".py",
   "mimetype": "text/x-python",
   "name": "python",
   "nbconvert_exporter": "python",
   "pygments_lexer": "ipython3",
   "version": "3.7.16"
  }
 },
 "nbformat": 4,
 "nbformat_minor": 4
}
