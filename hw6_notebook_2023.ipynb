{
 "cells": [
  {
   "attachments": {},
   "cell_type": "markdown",
   "metadata": {},
   "source": [
    "## Homework 6 \n",
    "\n",
    "\n",
    "Name: Dan Jang\n",
    "\n",
    "Comments for instructor/grader:\n"
   ]
  },
  {
   "attachments": {},
   "cell_type": "markdown",
   "metadata": {},
   "source": [
    "### Exercise 6.3 LU Decomposition\n",
    "\n",
    "[If you haven't already completed in HW5]\n",
    "\n",
    "This exercise invites you to write your own\n",
    "program to solve simultaneous equations using the method of LU\n",
    "decomposition.\n",
    "\n",
    "**a)** Starting, if you wish, with the program for Gaussian elimination in\n",
    "  Example 6.1 on page 218, write a Python function that calculates the LU\n",
    "  decomposition of a matrix.  The calculation is same as that for Gaussian\n",
    "  elimination, except that at each step of the calculation you need to\n",
    "  extract the appropriate elements of the matrix and assemble them to form\n",
    "  the lower diagonal matrix __L__ of Eq. (6.32).  Test your function by\n",
    "  calculating the LU decomposition of the matrix from Eq. (6.2), then\n",
    "  multiplying the __L__ and __U__ you get and verifying that you\n",
    "  recover the original matrix once more."
   ]
  },
  {
   "cell_type": "code",
   "execution_count": null,
   "metadata": {},
   "outputs": [],
   "source": [
    "from gaussxw import gaussxwab\n",
    "\n",
    "2"
   ]
  },
  {
   "attachments": {},
   "cell_type": "markdown",
   "metadata": {},
   "source": [
    "**Pts /10**"
   ]
  },
  {
   "attachments": {},
   "cell_type": "markdown",
   "metadata": {},
   "source": [
    "**b)** Build on your LU decomposition function to create a complete program\n",
    "  to solve Eq. (6.2) by performing a double substitution as described\n",
    "  in this section. "
   ]
  },
  {
   "cell_type": "code",
   "execution_count": null,
   "metadata": {},
   "outputs": [],
   "source": [
    "#Type your code here"
   ]
  },
  {
   "attachments": {},
   "cell_type": "markdown",
   "metadata": {},
   "source": [
    "**Pts /10**"
   ]
  },
  {
   "attachments": {},
   "cell_type": "markdown",
   "metadata": {},
   "source": [
    "**c)**  Solve the same equations using the function _solve_ from the _numpy_ package and verify that you get the same answer either way."
   ]
  },
  {
   "cell_type": "code",
   "execution_count": null,
   "metadata": {},
   "outputs": [],
   "source": []
  },
  {
   "attachments": {},
   "cell_type": "markdown",
   "metadata": {},
   "source": [
    "**Pts /5**"
   ]
  },
  {
   "attachments": {},
   "cell_type": "markdown",
   "metadata": {},
   "source": [
    "**Total Exercise Pts /25**"
   ]
  },
  {
   "attachments": {
    "image.png": {
     "image/png": "[encoded data removed]"
    }
   },
   "cell_type": "markdown",
   "metadata": {},
   "source": [
    "### Exercise 6.8 QR algorithm\n",
    "\n",
    "In this exercise you'll write a\n",
    "program to calculate the eigenvalues and eigenvectors of a real symmetric\n",
    "matrix using the QR algorithm.  The first challenge is to write a program\n",
    "that finds the QR decomposition of a matrix.  Then we'll use that\n",
    "decomposition to find the eigenvalues.\n",
    "\n",
    "The details of this problem are quite long so refer to the write-up for the exercise in the textbook.\n",
    "\n",
    "**b)** Write a Python function that takes as its argument a real square\n",
    "  matrix __A__ and returns the two matrices __Q__ and __R__\n",
    "  that form its QR decomposition.  As a test case, try out your function on\n",
    "  the matrix:\n",
    "  \n",
    "  ![image.png](attachment:image.png)\n",
    "  \n",
    "  Print out __Q__ and __A__. Check your code by multiplying and printing the product __Q__ __R__ to\n",
    "recover the original matrix __A__. You can use the numpy function *np.dot()* to perform the matrix multiplication. "
   ]
  },
  {
   "cell_type": "code",
   "execution_count": null,
   "metadata": {
    "scrolled": true
   },
   "outputs": [],
   "source": [
    "## Type your code here. "
   ]
  },
  {
   "attachments": {},
   "cell_type": "markdown",
   "metadata": {},
   "source": [
    "**Pts /10**"
   ]
  },
  {
   "attachments": {},
   "cell_type": "markdown",
   "metadata": {},
   "source": [
    "**c)** Using your function, write a complete program to calculate the\n",
    "  eigenvalues and eigenvectors of a real symmetric matrix using the QR\n",
    "  algorithm.  Continue the calculation until the magnitude of every\n",
    "  off-diagonal element of the matrix is smaller than $10^{-6}$.  Test your\n",
    "  program on the example matrix above.  You should find that the\n",
    "  eigenvalues are $1$, $21$, $-3$, and$-8$. Print out the eigenvectors and eigenvalues."
   ]
  },
  {
   "cell_type": "code",
   "execution_count": null,
   "metadata": {},
   "outputs": [],
   "source": [
    "## Type code here  "
   ]
  },
  {
   "attachments": {},
   "cell_type": "markdown",
   "metadata": {},
   "source": [
    "**Pts /10**"
   ]
  },
  {
   "attachments": {},
   "cell_type": "markdown",
   "metadata": {},
   "source": [
    "**d)** Verify that your eigenvalues and eigenvectors satisfy the eigenvector equation:\n",
    "\n",
    "$\n",
    "\\mathbf{A}{v}=\\lambda\\mathbf{v}\n",
    "$\n",
    "\n",
    "by computing and printing both sides of the equation. "
   ]
  },
  {
   "cell_type": "code",
   "execution_count": null,
   "metadata": {},
   "outputs": [],
   "source": [
    "# type code here"
   ]
  },
  {
   "attachments": {},
   "cell_type": "markdown",
   "metadata": {},
   "source": [
    "**Pts /5**"
   ]
  },
  {
   "attachments": {},
   "cell_type": "markdown",
   "metadata": {},
   "source": [
    "**e)** Verify  your eigenvectors and eigenvalues again, this time using the  *numpy.linalg* function *eigh()*. Refer to its online documentation https://numpy.org/doc/stable/reference/generated/numpy.linalg.eigh.html\n",
    "Print out compare the eigenvectors and eigenvalues you calculated with your algorithm and with *eigh()*."
   ]
  },
  {
   "cell_type": "code",
   "execution_count": null,
   "metadata": {},
   "outputs": [],
   "source": [
    "# Type your code here"
   ]
  },
  {
   "attachments": {},
   "cell_type": "markdown",
   "metadata": {},
   "source": [
    "**Pts /5**"
   ]
  },
  {
   "attachments": {},
   "cell_type": "markdown",
   "metadata": {},
   "source": [
    "**Total Exercise Pts /30**"
   ]
  },
  {
   "attachments": {},
   "cell_type": "markdown",
   "metadata": {},
   "source": [
    "### Exercise 6.10 Relaxation method\n",
    "\n",
    "Consider the equation $x = 1 − e^{−cx}$, where $c$ is a known parameter and $x$ is\n",
    "unknown. This equation arises in a variety of situations, including the physics of contact processes,\n",
    "mathematical models of epidemics, and the theory of random graphs.\n",
    "\n",
    "a) Write a program to solve this equation for $x$ using the relaxation method for the case\n",
    "$c = 2$. Calculate your solution to an accuracy of at least $10^{−6}$."
   ]
  },
  {
   "cell_type": "code",
   "execution_count": null,
   "metadata": {},
   "outputs": [],
   "source": [
    "# Type code here"
   ]
  },
  {
   "attachments": {},
   "cell_type": "markdown",
   "metadata": {},
   "source": [
    "**/5 pts**"
   ]
  },
  {
   "attachments": {},
   "cell_type": "markdown",
   "metadata": {},
   "source": [
    "Modify your program to calculate the solution for values of $c$ from $0$ to $3$ in steps of $0.01$\n",
    "and make a plot of $x$ as a function of $c$. You should see a clear transition from a regime\n",
    "in which $x = 0$ to a regime of nonzero $x$. This is another example of a phase transition.\n",
    "In physics this transition is known as the percolation transition; in epidemiology it is the\n",
    "epidemic threshold."
   ]
  },
  {
   "cell_type": "code",
   "execution_count": null,
   "metadata": {},
   "outputs": [],
   "source": [
    "# Type code here"
   ]
  },
  {
   "attachments": {},
   "cell_type": "markdown",
   "metadata": {},
   "source": [
    "**/5 pts**"
   ]
  },
  {
   "attachments": {},
   "cell_type": "markdown",
   "metadata": {},
   "source": [
    "**Total /10 pts**"
   ]
  },
  {
   "attachments": {},
   "cell_type": "markdown",
   "metadata": {},
   "source": [
    "### Total HW Pts /65"
   ]
  },
  {
   "cell_type": "code",
   "execution_count": null,
   "metadata": {},
   "outputs": [],
   "source": []
  }
 ],
 "metadata": {
  "kernelspec": {
   "display_name": "Python 3 (ipykernel)",
   "language": "python",
   "name": "python3"
  },
  "language_info": {
   "codemirror_mode": {
    "name": "ipython",
    "version": 3
   },
   "file_extension": ".py",
   "mimetype": "text/x-python",
   "name": "python",
   "nbconvert_exporter": "python",
   "pygments_lexer": "ipython3",
   "version": "3.7.16"
  }
 },
 "nbformat": 4,
 "nbformat_minor": 4
}
