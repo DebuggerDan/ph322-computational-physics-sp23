{
 "cells": [
  {
   "attachments": {},
   "cell_type": "markdown",
   "metadata": {},
   "source": [
    "**Homework 2**\n",
    "\n",
    "\n",
    "* Note the constants in Exercise 2.10 are different in the textbook PDF from the author's website than the printed textbook. Use the values in this template.\n",
    "\n",
    "* You can import plotting functions from either *pylab* or *matplotlib* module.\n",
    "\n",
    "\n",
    "Name:   Dan Jang\n",
    "Comments for instructor:"
   ]
  },
  {
   "cell_type": "markdown",
   "metadata": {},
   "source": [
    "**Exercise 2.10**\n",
    "\n",
    "In nuclear physics, the semi-empirical mass formula is a formula for calculating the approximate nuclear binding energy _B_ of an atmoic nucleus with atomic number _Z_ and mass number _A_:\n",
    "\n",
    "$B = a_{1}A - a_{2}A^{2/3} - a_{3}\\frac{Z^2}{A^{1/3}} - a_{4}\\frac{(A-2Z)^{2}}{A} + \\frac{a_{5}}{A^{1/2}}, $\n",
    "\n",
    "where, in units of millions of electron volts, the constants are $a_{1}$ = 15.8, $a_{2}$ = 18.3, $a_{3}$ = 0.714, $a_{4}$ = 23.2, and\n",
    "\n",
    "\\begin{equation*}\n",
    "a_{5} = \\begin{cases}\n",
    "            0 \\quad &\\text{if A is odd,} \\\\\n",
    "            12.0 \\quad &\\text{if A and Z are both even,} \\\\\n",
    "            -12.0 \\quad &\\text{if A is even and Z is odd.} \\\\\n",
    "        \\end{cases}\n",
    "\\end{equation*}"
   ]
  },
  {
   "cell_type": "markdown",
   "metadata": {},
   "source": [
    "**a)** Write a program that takes as its input the values of _A_ and _Z_, and prints out the binding\n",
    "energy for the corresponding atom. Use your program to find the binding energy of an\n",
    "atom with _A_ = 58 and _Z_ = 28. (Hint: The correct answer is around 490 MeV.)"
   ]
  },
  {
   "cell_type": "code",
   "execution_count": 1,
   "metadata": {},
   "outputs": [
    {
     "name": "stdout",
     "output_type": "stream",
     "text": [
      "The found binding energy for an atom with a mass number of 58 & an atomic number of 28, to be: 497.5620206224374 MeV\n"
     ]
    }
   ],
   "source": [
    "### PH 322 - HW #2, Q2.10a.) - Dan Jang\n",
    "\n",
    "import math\n",
    "import sys\n",
    "import numpy as np\n",
    "\n",
    "## Constants\n",
    "\n",
    "a1 = 15.8 # MeV (Mega/million Electron Volts)\n",
    "a2 = 18.3 # MeV\n",
    "a3 = 0.714 # MeV\n",
    "a4 = 23.2 # MeV\n",
    "\n",
    "def main(DebugSetting):\n",
    "    if (DebugSetting):\n",
    "        A = 58\n",
    "        Z = 28\n",
    "\n",
    "    else:\n",
    "        A = int(input(\"What is the mass number?\"))\n",
    "        Z = int(input(\"What is the atomic number?\"))\n",
    "\n",
    "        # a5 = 0 if A is odd [Case #1],\n",
    "        # a5 = 12.0 if A and Z are BOTH even [Case #2],\n",
    "        # a5 = -12.0 if A is even AND Z is odd [Case #3].\n",
    "\n",
    "        # Check for Case #1 first,\n",
    "        # Check for Case #2 second,\n",
    "        # Else statement for Case #3 (actually doesnt even need a else statement, just set -12.0 as default case)\n",
    "    \n",
    "    # Autocase 3\n",
    "    a5 = -12.0\n",
    "\n",
    "    # Case 1\n",
    "    if (A % 2 != 0):\n",
    "        a5 = 0\n",
    "\n",
    "    # Case 2\n",
    "    elif ((A % 2 == 0) and (Z % 2 == 0)):\n",
    "        a5 = 12.0\n",
    "\n",
    "    B = (a1 * A) - (a2 * (A**(2/3))) - (a3 * ((Z**2)/(A**(1/3)))) - (a4 * (((A - 2*Z)**2) / A)) + ((a5) / (A**(1/2)))\n",
    "\n",
    "    print(\"The found binding energy for an atom with a mass number of \" + str(A) + \" & an atomic number of \" + str(Z) + \", to be: \" + str(B) + \" MeV\")\n",
    "\n",
    "if __name__ == \"__main__\":\n",
    "    if (sys.argv[1] == \"debug\"):\n",
    "        main(True)\n",
    "    else:\n",
    "        main(False) "
   ]
  },
  {
   "cell_type": "markdown",
   "metadata": {},
   "source": [
    "**/5 pts**"
   ]
  },
  {
   "cell_type": "markdown",
   "metadata": {},
   "source": [
    "**b)** Modify your program to print out not the total binding energy B, but the binding energy\n",
    "per nucleon, which is B/A."
   ]
  },
  {
   "cell_type": "code",
   "execution_count": 2,
   "metadata": {},
   "outputs": [
    {
     "name": "stdout",
     "output_type": "stream",
     "text": [
      "The binding energy per nucleon would be: 8.578655527973059\n"
     ]
    }
   ],
   "source": [
    "### PH 322 - HW #2, Q2.10b.) - Dan Jang\n",
    "\n",
    "import math\n",
    "import sys\n",
    "import numpy as np\n",
    "\n",
    "## Constants\n",
    "\n",
    "a1 = 15.8 # MeV (Mega/million Electron Volts)\n",
    "a2 = 18.3 # MeV\n",
    "a3 = 0.714 # MeV\n",
    "a4 = 23.2 # MeV\n",
    "\n",
    "def main(DebugSetting):\n",
    "    if (DebugSetting):\n",
    "        A = 58\n",
    "        Z = 28\n",
    "\n",
    "    else:\n",
    "        A = int(input(\"What is the mass number?\"))\n",
    "        Z = int(input(\"What is the atomic number?\"))\n",
    "\n",
    "        # a5 = 0 if A is odd [Case #1],\n",
    "        # a5 = 12.0 if A and Z are BOTH even [Case #2],\n",
    "        # a5 = -12.0 if A is even AND Z is odd [Case #3].\n",
    "\n",
    "        # Check for Case #1 first,\n",
    "        # Check for Case #2 second,\n",
    "        # Else statement for Case #3 (actually doesnt even need a else statement, just set -12.0 as default case)\n",
    "\n",
    "    # Autocase 3\n",
    "    a5 = -12.0\n",
    "\n",
    "    # Case 1\n",
    "    if (A % 2 != 0):\n",
    "        a5 = 0\n",
    "\n",
    "    # Case 2\n",
    "    elif ((A % 2 == 0) and (Z % 2 == 0)):\n",
    "        a5 = 12.0\n",
    "\n",
    "    B = (a1 * A) - (a2 * (A**(2/3))) - (a3 * ((Z**2)/(A**(1/3)))) - (a4 * (((A - 2*Z)**2) / A)) + ((a5) / (A**(1/2)))\n",
    "\n",
    "    #print(\"The found binding energy for an atom with a mass number of \" + str(A) + \" & an atomic number of \" + str(Z) + \", to be: \" + str(A) + \" MeV\")\n",
    "    print(\"The binding energy per nucleon would be: \" + str(B/A))\n",
    "\n",
    "if __name__ == \"__main__\":\n",
    "    if (sys.argv[1] == \"debug\"):\n",
    "        main(True)\n",
    "    else:\n",
    "        main(False)"
   ]
  },
  {
   "cell_type": "markdown",
   "metadata": {},
   "source": [
    "**/5 pts**"
   ]
  },
  {
   "cell_type": "markdown",
   "metadata": {},
   "source": [
    "**c)** Now modify your program so that it takes as input just a single value of the atomic\n",
    "number Z and then goes through all values of A from A = Z to A = 3Z, to find the one\n",
    "that has the largest binding energy per nucleon. This is the most stable nucleus with the\n",
    "given atomic number. Have your program print out the value of A for this most stable\n",
    "nucleus and the value of the binding energy per nucleon.\n"
   ]
  },
  {
   "cell_type": "code",
   "execution_count": 49,
   "metadata": {},
   "outputs": [
    {
     "name": "stdout",
     "output_type": "stream",
     "text": [
      "The largest binding energy found per nucleon, for A = Z through 3Z, would be: 8.70245768367189\n"
     ]
    }
   ],
   "source": [
    "### PH 322 - HW #2, Q2.10c.) - Dan Jang\n",
    "\n",
    "import math\n",
    "import sys\n",
    "import numpy as np\n",
    "\n",
    "## Constants\n",
    "\n",
    "a1 = 15.8 # MeV (Mega/million Electron Volts)\n",
    "a2 = 18.3 # MeV\n",
    "a3 = 0.714 # MeV\n",
    "a4 = 23.2 # MeV\n",
    "\n",
    "def main(DebugSetting):\n",
    "    if (DebugSetting):\n",
    "        A = 58\n",
    "        Z = 28\n",
    "\n",
    "    else:\n",
    "        #A = int(input(\"What is the mass number?\"))\n",
    "        Z = int(input(\"What is the atomic number?\"))\n",
    "\n",
    "        # a5 = 0 if A is odd [Case #1],\n",
    "        # a5 = 12.0 if A and Z are BOTH even [Case #2],\n",
    "        # a5 = -12.0 if A is even AND Z is odd [Case #3].\n",
    "\n",
    "        # Check for Case #1 first,\n",
    "        # Check for Case #2 second,\n",
    "        # Else statement for Case #3 (actually doesnt even need a else statement, just set -12.0 as default case)\n",
    "\n",
    "    #A = Z\n",
    "    \n",
    "    # for A in range (Z, 3*Z+1):\n",
    "    #     print(str(A))\n",
    "    A = Z\n",
    "    LargestBA = 0\n",
    "    while (A <= 3*Z):\n",
    "        \n",
    "        # Autocase 3\n",
    "        a5 = -12.0\n",
    "\n",
    "        # Case 1\n",
    "        if (A % 2 != 0):\n",
    "            a5 = 0\n",
    "\n",
    "        # Case 2\n",
    "        elif ((A % 2 == 0) and (Z % 2 == 0)):\n",
    "            a5 = 12.0\n",
    "            \n",
    "        \n",
    "        # LargestBA2 = 0\n",
    "        \n",
    "        B = (a1 * A) - (a2 * (A**(2/3))) - (a3 * ((Z**2)/(A**(1/3)))) - (a4 * (((A - 2*Z)**2) / A)) + ((a5) / (A**(1/2)))\n",
    "        currBA = B/A\n",
    "        if (currBA > LargestBA):\n",
    "            LargestBA = currBA\n",
    "        A = A + 1\n",
    "        \n",
    "\n",
    "    print(\"The largest binding energy found per nucleon, for A = Z through 3Z, would be: \" + str(LargestBA))\n",
    "\n",
    "if __name__ == \"__main__\":\n",
    "    if (sys.argv[1] == \"debug\"):\n",
    "        main(True)\n",
    "    else:\n",
    "        main(True)"
   ]
  },
  {
   "cell_type": "markdown",
   "metadata": {},
   "source": [
    "**/5 pts**"
   ]
  },
  {
   "cell_type": "markdown",
   "metadata": {},
   "source": [
    "**d)** Modify your program again so that, instead of taking Z as input, it runs through all\n",
    "values of Z from 1 to 100 and prints out the most stable value of A for each one. At what\n",
    "value of Z does the maximum binding energy per nucleon occur? (The true answer, in\n",
    "real life, is Z = 28, which is nickel. You should find that the semi-empirical mass formula\n",
    "gets the answer roughly right, but not exactly.)"
   ]
  },
  {
   "cell_type": "code",
   "execution_count": 53,
   "metadata": {},
   "outputs": [
    {
     "name": "stdout",
     "output_type": "stream",
     "text": [
      "When Z = 1, the largest binding energy found per nucleon for A = Z through 3Z, was: 0.36869091831015827\n",
      "When Z = 2, the largest binding energy found per nucleon for A = Z through 3Z, was: 5.321930578649441\n",
      "When Z = 3, the largest binding energy found per nucleon for A = Z through 3Z, was: 5.280168164356119\n",
      "When Z = 4, the largest binding energy found per nucleon for A = Z through 3Z, was: 6.466330085889912\n",
      "When Z = 5, the largest binding energy found per nucleon for A = Z through 3Z, was: 6.650123444727665\n",
      "When Z = 6, the largest binding energy found per nucleon for A = Z through 3Z, was: 7.200918138809924\n",
      "When Z = 7, the largest binding energy found per nucleon for A = Z through 3Z, was: 7.330860591990981\n",
      "When Z = 8, the largest binding energy found per nucleon for A = Z through 3Z, was: 7.719275577459026\n",
      "When Z = 9, the largest binding energy found per nucleon for A = Z through 3Z, was: 7.73697768275634\n",
      "When Z = 10, the largest binding energy found per nucleon for A = Z through 3Z, was: 8.035350864715019\n",
      "When Z = 11, the largest binding energy found per nucleon for A = Z through 3Z, was: 8.025554739665797\n",
      "When Z = 12, the largest binding energy found per nucleon for A = Z through 3Z, was: 8.241172535624845\n",
      "When Z = 13, the largest binding energy found per nucleon for A = Z through 3Z, was: 8.240988355754636\n",
      "When Z = 14, the largest binding energy found per nucleon for A = Z through 3Z, was: 8.37916169002579\n",
      "When Z = 15, the largest binding energy found per nucleon for A = Z through 3Z, was: 8.38521415855582\n",
      "When Z = 16, the largest binding energy found per nucleon for A = Z through 3Z, was: 8.489230168218935\n",
      "When Z = 17, the largest binding energy found per nucleon for A = Z through 3Z, was: 8.48201495174352\n",
      "When Z = 18, the largest binding energy found per nucleon for A = Z through 3Z, was: 8.573405285254953\n",
      "When Z = 19, the largest binding energy found per nucleon for A = Z through 3Z, was: 8.551826855569242\n",
      "When Z = 20, the largest binding energy found per nucleon for A = Z through 3Z, was: 8.627152167121634\n",
      "When Z = 21, the largest binding energy found per nucleon for A = Z through 3Z, was: 8.610130576802973\n",
      "When Z = 22, the largest binding energy found per nucleon for A = Z through 3Z, was: 8.6585154571142\n",
      "When Z = 23, the largest binding energy found per nucleon for A = Z through 3Z, was: 8.645234048730842\n",
      "When Z = 24, the largest binding energy found per nucleon for A = Z through 3Z, was: 8.687306583887372\n",
      "When Z = 25, the largest binding energy found per nucleon for A = Z through 3Z, was: 8.662703971015583\n",
      "When Z = 26, the largest binding energy found per nucleon for A = Z through 3Z, was: 8.701432576808987\n",
      "When Z = 27, the largest binding energy found per nucleon for A = Z through 3Z, was: 8.678053678353882\n",
      "When Z = 28, the largest binding energy found per nucleon for A = Z through 3Z, was: 8.70245768367189\n",
      "When Z = 29, the largest binding energy found per nucleon for A = Z through 3Z, was: 8.681907349580422\n",
      "When Z = 30, the largest binding energy found per nucleon for A = Z through 3Z, was: 8.701580328486784\n",
      "When Z = 31, the largest binding energy found per nucleon for A = Z through 3Z, was: 8.675012598311142\n",
      "When Z = 32, the largest binding energy found per nucleon for A = Z through 3Z, was: 8.693433639739787\n",
      "When Z = 33, the largest binding energy found per nucleon for A = Z through 3Z, was: 8.668156247337208\n",
      "When Z = 34, the largest binding energy found per nucleon for A = Z through 3Z, was: 8.67683411103597\n",
      "When Z = 35, the largest binding energy found per nucleon for A = Z through 3Z, was: 8.653727479263061\n",
      "When Z = 36, the largest binding energy found per nucleon for A = Z through 3Z, was: 8.66141248935323\n",
      "When Z = 37, the largest binding energy found per nucleon for A = Z through 3Z, was: 8.633940444065898\n",
      "When Z = 38, the largest binding energy found per nucleon for A = Z through 3Z, was: 8.639441275530453\n",
      "When Z = 39, the largest binding energy found per nucleon for A = Z through 3Z, was: 8.613815033672552\n",
      "When Z = 40, the largest binding energy found per nucleon for A = Z through 3Z, was: 8.614514461544127\n",
      "When Z = 41, the largest binding energy found per nucleon for A = Z through 3Z, was: 8.587741675710747\n",
      "When Z = 42, the largest binding energy found per nucleon for A = Z through 3Z, was: 8.588337807352417\n",
      "When Z = 43, the largest binding energy found per nucleon for A = Z through 3Z, was: 8.561488033970447\n",
      "When Z = 44, the largest binding energy found per nucleon for A = Z through 3Z, was: 8.557428804696526\n",
      "When Z = 45, the largest binding energy found per nucleon for A = Z through 3Z, was: 8.531857077904819\n",
      "When Z = 46, the largest binding energy found per nucleon for A = Z through 3Z, was: 8.52785864674169\n",
      "When Z = 47, the largest binding energy found per nucleon for A = Z through 3Z, was: 8.500490244095234\n",
      "When Z = 48, the largest binding energy found per nucleon for A = Z through 3Z, was: 8.4940569666179\n",
      "When Z = 49, the largest binding energy found per nucleon for A = Z through 3Z, was: 8.46797678166812\n",
      "When Z = 50, the largest binding energy found per nucleon for A = Z through 3Z, was: 8.460713172533021\n",
      "When Z = 51, the largest binding energy found per nucleon for A = Z through 3Z, was: 8.433224407343122\n",
      "When Z = 52, the largest binding energy found per nucleon for A = Z through 3Z, was: 8.424696665334825\n",
      "When Z = 53, the largest binding energy found per nucleon for A = Z through 3Z, was: 8.398332486638505\n",
      "When Z = 54, the largest binding energy found per nucleon for A = Z through 3Z, was: 8.38868945344295\n",
      "When Z = 55, the largest binding energy found per nucleon for A = Z through 3Z, was: 8.361310553455423\n",
      "When Z = 56, the largest binding energy found per nucleon for A = Z through 3Z, was: 8.350819725669146\n",
      "When Z = 57, the largest binding energy found per nucleon for A = Z through 3Z, was: 8.32443069811602\n",
      "When Z = 58, the largest binding energy found per nucleon for A = Z through 3Z, was: 8.313019639868703\n",
      "When Z = 59, the largest binding energy found per nucleon for A = Z through 3Z, was: 8.285884693887583\n",
      "When Z = 60, the largest binding energy found per nucleon for A = Z through 3Z, was: 8.273583815729522\n",
      "When Z = 61, the largest binding energy found per nucleon for A = Z through 3Z, was: 8.247327458286065\n",
      "When Z = 62, the largest binding energy found per nucleon for A = Z through 3Z, was: 8.234582872513133\n",
      "When Z = 63, the largest binding energy found per nucleon for A = Z through 3Z, was: 8.207769087134613\n",
      "When Z = 64, the largest binding energy found per nucleon for A = Z through 3Z, was: 8.193813966434627\n",
      "When Z = 65, the largest binding energy found per nucleon for A = Z through 3Z, was: 8.167786207290451\n",
      "When Z = 66, the largest binding energy found per nucleon for A = Z through 3Z, was: 8.154024477520512\n",
      "When Z = 67, the largest binding energy found per nucleon for A = Z through 3Z, was: 8.127574530301825\n",
      "When Z = 68, the largest binding energy found per nucleon for A = Z through 3Z, was: 8.11278037767185\n",
      "When Z = 69, the largest binding energy found per nucleon for A = Z through 3Z, was: 8.086373082934724\n",
      "When Z = 70, the largest binding energy found per nucleon for A = Z through 3Z, was: 8.071829365612306\n",
      "When Z = 71, the largest binding energy found per nucleon for A = Z through 3Z, was: 8.045764583108769\n",
      "When Z = 72, the largest binding energy found per nucleon for A = Z through 3Z, was: 8.030368571593026\n",
      "When Z = 73, the largest binding energy found per nucleon for A = Z through 3Z, was: 8.004105311543137\n",
      "When Z = 74, the largest binding energy found per nucleon for A = Z through 3Z, was: 7.988369073415251\n",
      "When Z = 75, the largest binding energy found per nucleon for A = Z through 3Z, was: 7.962697427019249\n",
      "When Z = 76, the largest binding energy found per nucleon for A = Z through 3Z, was: 7.946838055684514\n",
      "When Z = 77, the largest binding energy found per nucleon for A = Z through 3Z, was: 7.921016888554693\n",
      "When Z = 78, the largest binding energy found per nucleon for A = Z through 3Z, was: 7.904575879934101\n",
      "When Z = 79, the largest binding energy found per nucleon for A = Z through 3Z, was: 7.87868400232803\n",
      "When Z = 80, the largest binding energy found per nucleon for A = Z through 3Z, was: 7.862438691993173\n",
      "When Z = 81, the largest binding energy found per nucleon for A = Z through 3Z, was: 7.837047201045294\n",
      "When Z = 82, the largest binding energy found per nucleon for A = Z through 3Z, was: 7.82033857608665\n",
      "When Z = 83, the largest binding energy found per nucleon for A = Z through 3Z, was: 7.794899333942829\n",
      "When Z = 84, the largest binding energy found per nucleon for A = Z through 3Z, was: 7.777785761025879\n",
      "When Z = 85, the largest binding energy found per nucleon for A = Z through 3Z, was: 7.75239433360284\n",
      "When Z = 86, the largest binding energy found per nucleon for A = Z through 3Z, was: 7.735485475322138\n",
      "When Z = 87, the largest binding energy found per nucleon for A = Z through 3Z, was: 7.710478810144077\n",
      "When Z = 88, the largest binding energy found per nucleon for A = Z through 3Z, was: 7.693222175964613\n",
      "When Z = 89, the largest binding energy found per nucleon for A = Z through 3Z, was: 7.668228396728228\n",
      "When Z = 90, the largest binding energy found per nucleon for A = Z through 3Z, was: 7.65068598823387\n",
      "When Z = 91, the largest binding energy found per nucleon for A = Z through 3Z, was: 7.625739835440575\n",
      "When Z = 92, the largest binding energy found per nucleon for A = Z through 3Z, was: 7.608214013689897\n",
      "When Z = 93, the largest binding energy found per nucleon for A = Z through 3Z, was: 7.583639834526779\n",
      "When Z = 94, the largest binding energy found per nucleon for A = Z through 3Z, was: 7.566035830526522\n",
      "When Z = 95, the largest binding energy found per nucleon for A = Z through 3Z, was: 7.5415108314640555\n",
      "When Z = 96, the largest binding energy found per nucleon for A = Z through 3Z, was: 7.523703637516345\n",
      "When Z = 97, the largest binding energy found per nucleon for A = Z through 3Z, was: 7.499251800171257\n",
      "When Z = 98, the largest binding energy found per nucleon for A = Z through 3Z, was: 7.481279349508352\n",
      "When Z = 99, the largest binding energy found per nucleon for A = Z through 3Z, was: 7.456937323389022\n",
      "When Z = 100, the largest binding energy found per nucleon for A = Z through 3Z, was: 7.439122944429214\n",
      "The absolutely largest binding energy found per nucleon, was for Z = 28, which had a binding energy of: 8.70245768367189\n"
     ]
    }
   ],
   "source": [
    "### PH 322 - HW #2, Q2.10d.) - Dan Jang\n",
    "\n",
    "import math\n",
    "import sys\n",
    "import numpy as np\n",
    "\n",
    "## Constants\n",
    "\n",
    "a1 = 15.8 # MeV (Mega/million Electron Volts)\n",
    "a2 = 18.3 # MeV\n",
    "a3 = 0.714 # MeV\n",
    "a4 = 23.2 # MeV\n",
    "\n",
    "def main(DebugSetting):\n",
    "    if (DebugSetting):\n",
    "        A = 58\n",
    "        Z = 1\n",
    "\n",
    "    else:\n",
    "        #A = int(input(\"What is the mass number?\"))\n",
    "        Z = int(input(\"What is the atomic number?\"))\n",
    "\n",
    "        # a5 = 0 if A is odd [Case #1],\n",
    "        # a5 = 12.0 if A and Z are BOTH even [Case #2],\n",
    "        # a5 = -12.0 if A is even AND Z is odd [Case #3].\n",
    "\n",
    "        # Check for Case #1 first,\n",
    "        # Check for Case #2 second,\n",
    "        # Else statement for Case #3 (actually doesnt even need a else statement, just set -12.0 as default case)\n",
    "    \n",
    "    LargestBAforZ = 0\n",
    "    LargestZ = 0\n",
    "    \n",
    "    while (Z <= 100):\n",
    "        A = Z\n",
    "        LargestBA = 0\n",
    "        \n",
    "        while (A <= 3*Z):\n",
    "            \n",
    "            # Autocase 3\n",
    "            a5 = -12.0\n",
    "\n",
    "            # Case 1\n",
    "            if (A % 2 != 0):\n",
    "                a5 = 0\n",
    "\n",
    "            # Case 2\n",
    "            elif ((A % 2 == 0) and (Z % 2 == 0)):\n",
    "                a5 = 12.0\n",
    "                \n",
    "            \n",
    "            # LargestBA2 = 0\n",
    "            \n",
    "            B = (a1 * A) - (a2 * (A**(2/3))) - (a3 * ((Z**2)/(A**(1/3)))) - (a4 * (((A - 2*Z)**2) / A)) + ((a5) / (A**(1/2)))\n",
    "            currBA = B/A\n",
    "            #print(str(currBA))\n",
    "            if (currBA > LargestBA):\n",
    "                LargestBA = currBA\n",
    "\n",
    "            A = A + 1\n",
    "            \n",
    "        print(\"When Z = \" + str(Z) +\", the largest binding energy found per nucleon for A = Z through 3Z, was: \" + str(LargestBA))\n",
    "        if (LargestBA > LargestBAforZ):\n",
    "            LargestBAforZ = LargestBA\n",
    "            LargestZ = Z\n",
    "        Z = Z + 1\n",
    "\n",
    "    print(\"The absolutely largest binding energy found per nucleon, was for Z = \" + str(LargestZ) + \", which had a binding energy of: \" + str(LargestBAforZ))\n",
    "\n",
    "if __name__ == \"__main__\":\n",
    "    if (sys.argv[1] == \"debug\"):\n",
    "        main(True)\n",
    "    else:\n",
    "        main(True)"
   ]
  },
  {
   "cell_type": "markdown",
   "metadata": {},
   "source": [
    "**/5 pts**"
   ]
  },
  {
   "cell_type": "markdown",
   "metadata": {},
   "source": [
    "**Total Pts /20**"
   ]
  },
  {
   "attachments": {
    "image.png": {
     "image/png": "[encoded data removed]"
    }
   },
   "cell_type": "markdown",
   "metadata": {},
   "source": [
    "![image.png](attachment:image.png)"
   ]
  },
  {
   "cell_type": "code",
   "execution_count": 14,
   "metadata": {},
   "outputs": [
    {
     "name": "stdout",
     "output_type": "stream",
     "text": [
      "The binomial coefficient for n = 0 & k = 1 is: 0\n"
     ]
    }
   ],
   "source": [
    "### PH 322 - HW #2, Q2.11.) - Dan Jang\n",
    "\n",
    "import math\n",
    "import sys\n",
    "import numpy as np\n",
    "\n",
    "## Constants\n",
    "n = 0\n",
    "k = 0\n",
    "\n",
    "def binomial(n, k):\n",
    "    try:\n",
    "        return math.factorial(n) // math.factorial(k) // math.factorial(n - k)\n",
    "    except ValueError:\n",
    "        return 0\n",
    "\n",
    "def main():\n",
    "    result = int(binomial(n, k))\n",
    "    print(\"The binomial coefficient for n = \" + str(n) + \" & k = \" + str(k) + \" is: \" + str(result))\n",
    "    \n",
    "\n",
    "if __name__ == \"__main__\":\n",
    "    main()"
   ]
  },
  {
   "cell_type": "markdown",
   "metadata": {},
   "source": [
    "**Total /5 pts**"
   ]
  },
  {
   "cell_type": "markdown",
   "metadata": {},
   "source": [
    "**Exercise 3.2**\n",
    "\n",
    "Although the $plot$ function is designed primarily for\n",
    "plotting standard $xy$ graphs, it can be adapted for other kinds of\n",
    "plotting as well.\n",
    "\n",
    "**a)** Make a plot of the so-called _deltoid_ curve, which is\n",
    "  defined parametrically by the equations\n",
    "  \n",
    "\\begin{equation*}\n",
    "x = 2 \\cos \\theta + \\cos 2\\theta, \\qquad \n",
    "y = 2 \\sin \\theta - \\sin 2\\theta,\n",
    "\\end{equation*}\n",
    "\n",
    "where $0\\le\\theta<2\\pi$.  Take a set of values of $\\theta$ between zero\n",
    "and $2\\pi$ and calculate $x$ and $y$ for each from the equations above,\n",
    "then plot $y$ as a function of $x$.\n"
   ]
  },
  {
   "cell_type": "code",
   "execution_count": 15,
   "metadata": {},
   "outputs": [
    {
     "data": {
      "image/png": "[encoded data removed]",
      "text/plain": [
       "<Figure size 640x480 with 1 Axes>"
      ]
     },
     "metadata": {},
     "output_type": "display_data"
    }
   ],
   "source": [
    "### PH 322 - HW #2, Q3.2.) - Dan Jang\n",
    "# Credits: ChatGPT for matplotlib help\n",
    "\n",
    "import numpy as np\n",
    "import matplotlib.pyplot as plot\n",
    "\n",
    "theta = np.linspace(0, 2*np.pi, 1000)\n",
    "x = 2 * np.cos(theta) + np.cos(2 * theta)\n",
    "y = 2 * np.sin(theta) - np.sin(2 * theta)\n",
    "\n",
    "plot.plot(x, y)\n",
    "plot.xlabel('x')\n",
    "plot.ylabel('y')\n",
    "plot.title('Deltoid Curve')\n",
    "plot.axis('equal')\n",
    "plot.show()"
   ]
  },
  {
   "cell_type": "markdown",
   "metadata": {},
   "source": [
    "**/5 pts**"
   ]
  },
  {
   "cell_type": "markdown",
   "metadata": {},
   "source": [
    "\n",
    "**b)** Taking this approach a step further, one can make a polar\n",
    "  plot $r=f(\\theta)$ for some function $f$ by calculating $r$ for a range\n",
    "  of values of $\\theta$ and then converting $r$ and $\\theta$ to Cartesian\n",
    "  coordinates using the standard equations $x = r\\cos\\theta$, $y =\n",
    "  r\\sin\\theta$.  Use this method to make a plot of the Galilean\n",
    "  spiral $r = \\theta^2$ for $0\\le\\theta\\le10\\pi$."
   ]
  },
  {
   "cell_type": "code",
   "execution_count": null,
   "metadata": {},
   "outputs": [],
   "source": []
  },
  {
   "cell_type": "markdown",
   "metadata": {},
   "source": [
    "**/5 pts**"
   ]
  },
  {
   "cell_type": "markdown",
   "metadata": {},
   "source": [
    "**c)** Using the same method, make a polar plot of ''Fey's\n",
    "  function''\n",
    "\n",
    "\\begin{equation*}\n",
    "r = e^{\\cos\\theta} - 2 \\cos 4\\theta + \\sin^5 \\frac{\\theta}{12}\n",
    "\\end{equation*}\n",
    "\n",
    "in the range $0\\le\\theta\\le24\\pi$."
   ]
  },
  {
   "cell_type": "code",
   "execution_count": null,
   "metadata": {},
   "outputs": [],
   "source": []
  },
  {
   "cell_type": "markdown",
   "metadata": {},
   "source": [
    "**/5 pts**"
   ]
  },
  {
   "cell_type": "markdown",
   "metadata": {},
   "source": [
    "**Total Pts /15**"
   ]
  },
  {
   "cell_type": "markdown",
   "metadata": {},
   "source": [
    "**Exercise 3.7**\n",
    "\n",
    "The Mandelbrot set, named after its discoverer, the French\n",
    "mathematician Benoit Mandelbrot, is a _fractal_, an infinitely\n",
    "ramified mathematical object that contains structure within structure\n",
    "within structure, as deep as we care to look.  The definition of the\n",
    "Mandelbrot set is in terms of complex numbers as follows. Consider the equation:\n",
    "\n",
    "\\begin{equation*}\n",
    "z' = z^2 + c,\n",
    "\\end{equation*}\n",
    "\n",
    "where $z$ is a complex number and $c$ is a complex constant.  For any given\n",
    "value of $c$ this equation turns an input number $z$ into an output\n",
    "number $z'$.  The definition of the Mandelbrot set involves the repeated\n",
    "iteration of this equation: we take an initial starting value of $z$ and\n",
    "feed it into the equation to get a new value $z'$.  Then we take that value\n",
    "and feed it in again to get another value, and so forth.  The Mandelbrot\n",
    "set is the set of points in the complex plane that satisfies the following\n",
    "definition:\n",
    "\n",
    "_For a given complex value of $c$, start with $z=0$ and iterate\n",
    "repeatedly.  If the magnitude $|z|$ of the resulting value is ever greater\n",
    "than 2, then the point in the complex plane at position $c$ is $not$\n",
    "in the Mandelbrot set, otherwise it is in the set._\n",
    "\n",
    "In order to use this definition one would, in principle, have to iterate\n",
    "infinitely many times to prove that a point is in the Mandelbrot set, since\n",
    "a point is in the set only if the iteration never passes $|z|=2$ ever.  In\n",
    "practice, however, one usually just performs some large number of\n",
    "iterations, say 100, and if $|z|$ hasn't exceeded 2 by that point then we\n",
    "call that good enough.\n",
    "\n",
    "Write a program to make an image of the Mandelbrot set by performing the\n",
    "iteration for all values of $c=x+iy$ on an $N\\times N$ grid spanning the\n",
    "region where $-2\\le x\\le 2$ and $-2\\le y\\le 2$.  Make a density plot in\n",
    "which grid points inside the Mandelbrot set are colored black and those\n",
    "outside are colored white.  The Mandelbrot set has a very distinctive shape\n",
    "that looks something like a beetle with a long snout---you'll know it when\n",
    "you see it.\n",
    "\n",
    "Hint: You will probably find it useful to start off with quite a coarse\n",
    "grid, i.e., with a small value of $N$---perhaps $N=100$---so that your\n",
    "program runs quickly while you are testing it.  Once you are sure it is\n",
    "working correctly, increase the value of $N$ to produce a final\n",
    "high-quality image of the shape of the set.\n",
    "\n",
    "If you are feeling enthusiastic, here is another variant of the same\n",
    "exercise that can produce amazing looking pictures.  Instead of coloring\n",
    "points just black or white, color points according to the number of\n",
    "iterations of the equation before $|z|$ becomes greater than 2 (or the\n",
    "maximum number of iterations if $|z|$ never becomes greater than 2).  If\n",
    "you use one of the more colorful color schemes Python provides for density\n",
    "plots, such as the ''hot'' or ''jet'' schemes, you can make\n",
    "some spectacular images this way.  Another interesting variant is to color\n",
    "according to the logarithm of the number of iterations, which helps reveal\n",
    "some of the finer structure outside the set.\n",
    "\n"
   ]
  },
  {
   "cell_type": "code",
   "execution_count": null,
   "metadata": {},
   "outputs": [],
   "source": []
  },
  {
   "cell_type": "markdown",
   "metadata": {},
   "source": [
    "**Pts /10**"
   ]
  },
  {
   "cell_type": "markdown",
   "metadata": {},
   "source": [
    "**Exercise 3.8**\n",
    "\n",
    "It's a common situation in physics that an experiment produces data\n",
    "that lies roughly on a straight line. Check the figure in your textbook for an example.\n",
    "\n",
    "The solid line here represents the underlying straight-line form, which we\n",
    "usually don't know, and the points representing the measured data lie\n",
    "roughly along the line but don't fall exactly on it, typically because of\n",
    "measurement error.\n",
    "\n",
    "The straight line can be represented in the familiar form $y=mx+c$ and a\n",
    "frequent question is what the appropriate values of the slope $m$ and\n",
    "intercept $c$ are that correspond to the measured data.  Since the data\n",
    "don't fall perfectly on a straight line, there is no perfect answer to such\n",
    "a question, but we can find the straight line that gives the best\n",
    "compromise fit to the data.  The standard technique for doing this is the\n",
    "_method of least squares_.\n",
    "\n",
    "Suppose we make some guess about the parameters $m$ and $c$ for the\n",
    "straight line.  We then calculate the vertical distances between the data\n",
    "points and that line, as represented by the short vertical lines in the\n",
    "figure, then we calculate the sum of the squares of those distances, which\n",
    "we denote $\\chi^2$.  If we have $N$ data points with\n",
    "coordinates $(x_i,y_i)$, then $\\chi^2$ is given by:\n",
    "\n",
    "\\begin{equation*}\n",
    "\\chi^2 = \\sum_{i=1}^N (mx_i+c-y_i)^2\n",
    "\\end{equation*}\n",
    "\n",
    "The least-squares fit of the straight line to the data is the straight line\n",
    "that minimizes this total squared distance from data to line.  We find the\n",
    "minimum by differentiating with respect to both $m$ and~$c$ and setting the\n",
    "derivatives to zero, which gives\n",
    "\n",
    "\\begin{equation*}\n",
    "m\\sum_{i=1}^N x_i^2 + c\\sum_{i=1}^N x_i - \\sum_{i=1}^N x_iy_i = 0 , \\\\\n",
    "m\\sum_{i=1}^N x_i + cN - \\sum_{i=1}^N y_i = 0.\n",
    "\\end{equation*}\n",
    "\n",
    "For convenience, let us define the following quantities:\n",
    "\n",
    "\\begin{equation*}\n",
    "E_x = {1\\over N} \\sum_{i=1}^N x_i,\\qquad\n",
    "E_y = {1\\over N} \\sum_{i=1}^N y_i,\\qquad\n",
    "E_{xx} = {1\\over N} \\sum_{i=1}^N x_i^2,\\qquad\n",
    "E_{xy} = {1\\over N} \\sum_{i=1}^N x_iy_i,\n",
    "\\end{equation*}\n",
    "\n",
    "in terms of which our equations can be written\n",
    "\n",
    "\\begin{equation*}\n",
    "mE_{xx} + cE_x = E_{xy}\\,, \\\\\n",
    "mE_x + c = E_y\\,.\n",
    "\\end{equation*}\n",
    "\n",
    "Solving these equations simultaneously for $m$ and $c$ now gives\n",
    "\n",
    "\\begin{equation*}\n",
    "m = {E_{xy}-E_x E_y\\over E_{xx} - E_x^2},\\qquad\n",
    "c = {E_{xx}E_y-E_x E_{xy}\\over E_{xx} - E_x^2}.\n",
    "\\end{equation*}\n",
    "\n",
    "These are the equations for the least-squares fit of a straight line to $N$\n",
    "data points.  They tell you the values of $m$ and $c$ for the line that\n",
    "best fits the given data.\n",
    "\n",
    "**a)** In the on-line resources you will find a file called\n",
    "  _millikan.txt_.  The file contains two columns of numbers, giving\n",
    "  the $x$ and $y$ coordinates of a set of data points.  Write a program to\n",
    "  read these data points and make a graph with one dot or circle for each\n",
    "  point."
   ]
  },
  {
   "cell_type": "code",
   "execution_count": null,
   "metadata": {},
   "outputs": [],
   "source": []
  },
  {
   "cell_type": "markdown",
   "metadata": {},
   "source": [
    "**/5 pts**"
   ]
  },
  {
   "cell_type": "markdown",
   "metadata": {},
   "source": [
    "**b)** Add code to your program, before the part that makes the graph, to\n",
    "  calculate the quantities $E_x$, $E_y$, $E_{xx}$, and $E_{xy}$ defined\n",
    "  above, and from them calculate and print out the slope $m$ and\n",
    "  intercept $c$ of the best-fit line."
   ]
  },
  {
   "cell_type": "code",
   "execution_count": null,
   "metadata": {},
   "outputs": [],
   "source": []
  },
  {
   "cell_type": "markdown",
   "metadata": {},
   "source": [
    "**/5 pts**"
   ]
  },
  {
   "cell_type": "markdown",
   "metadata": {},
   "source": [
    "**c)** Now write code that goes through each of the data points in turn and\n",
    "  evaluates the quantity $mx_i+c$ using the values of $m$ and $c$ that you\n",
    "  calculated.  Store these values in a new array or list, and then graph\n",
    "  this new array, as a solid line, on the same plot as the original data.\n",
    "  You should end up with a plot of the data points plus a straight line\n",
    "  that runs through them."
   ]
  },
  {
   "cell_type": "code",
   "execution_count": null,
   "metadata": {},
   "outputs": [],
   "source": []
  },
  {
   "cell_type": "markdown",
   "metadata": {},
   "source": [
    "**/5 pts**"
   ]
  },
  {
   "cell_type": "markdown",
   "metadata": {},
   "source": [
    "**d)** The data in the file _millikan.txt_ are taken from a historic\n",
    "  experiment by Robert Millikan that measured the\n",
    "  _photoelectric effect_.  When light of an appropriate wavelength is\n",
    "  shone on the surface of a metal, the photons in the light can strike\n",
    "  conduction electrons in the metal and, sometimes, eject them from the\n",
    "  surface into the free space above.  The energy of an ejected electron is\n",
    "  equal to the energy of the photon that struck it minus a small\n",
    "  amount $\\phi$ called the _work function_ of the surface,\n",
    "  which represents the energy needed to remove an electron from the\n",
    "  surface.  The energy of a photon is $h\\nu$, where $h$ is Planck's\n",
    "  constant and $\\nu$ is the frequency of the light, and we can measure the\n",
    "  energy of an ejected electron by measuring the voltage~$V$ that is just\n",
    "  sufficient to stop the electron moving.  Then the voltage, frequency, and\n",
    "  work function are related by the equation\n",
    "  \n",
    "  \\begin{equation*}\n",
    "  V = {h\\over e}\\nu - \\phi,\n",
    "  \\end{equation*}\n",
    "  \n",
    "  where $e$ is the charge on the electron.  This equation was first given by\n",
    "Albert Einstein in 1905.\n",
    "\n",
    "The data in the file _millikan.txt_ represent frequencies $\\nu$ in\n",
    "hertz (first column) and voltages $V$ in volts (second column) from\n",
    "photoelectric measurements of this kind.  Using the equation above and the\n",
    "program you wrote, and given that the charge on the electron is\n",
    "$1.602\\times10^{-19}\\,$C, calculate from Millikan's experimental data a\n",
    "value for Planck's constant.  Compare your value with the accepted value of\n",
    "the constant, which you can find in books or on-line.  You should get a\n",
    "result within a couple of percent of the accepted value.\n",
    "\n",
    "This calculation is essentially the same as the one that Millikan himself\n",
    "used to determine of the value of Planck's constant, although, lacking a\n",
    "computer, he fitted his straight line to the data by eye.  In part for this\n",
    "work, Millikan was awarded the Nobel prize in physics in 1923."
   ]
  },
  {
   "cell_type": "code",
   "execution_count": null,
   "metadata": {},
   "outputs": [],
   "source": []
  },
  {
   "cell_type": "markdown",
   "metadata": {},
   "source": [
    "**/5 pts**"
   ]
  },
  {
   "cell_type": "markdown",
   "metadata": {},
   "source": [
    "**Total /20 pts**"
   ]
  },
  {
   "cell_type": "markdown",
   "metadata": {},
   "source": [
    "**Homework Pts /70**"
   ]
  }
 ],
 "metadata": {
  "kernelspec": {
   "display_name": "Python 3",
   "language": "python",
   "name": "python3"
  },
  "language_info": {
   "codemirror_mode": {
    "name": "ipython",
    "version": 3
   },
   "file_extension": ".py",
   "mimetype": "text/x-python",
   "name": "python",
   "nbconvert_exporter": "python",
   "pygments_lexer": "ipython3",
   "version": "3.10.4"
  }
 },
 "nbformat": 4,
 "nbformat_minor": 4
}
