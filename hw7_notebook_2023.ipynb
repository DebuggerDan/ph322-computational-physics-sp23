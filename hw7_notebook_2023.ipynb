{
 "cells": [
  {
   "attachments": {},
   "cell_type": "markdown",
   "metadata": {},
   "source": [
    "## Homework 7\n",
    "\n",
    "\n",
    "Name:\n",
    "\n",
    "Comments for instructor/grader:\n"
   ]
  },
  {
   "attachments": {},
   "cell_type": "markdown",
   "metadata": {},
   "source": [
    "## Exercise 6.12: Glycolysis - relaxation method\n",
    "\n",
    "The biochemical process of *glycolysis*, the\n",
    "  breakdown of glucose in the body to release energy, can be modeled by the\n",
    "  equations\n",
    "$$\n",
    "{dx\\over dt} = -x + ay + x^2 y, \\qquad\n",
    "{dy\\over  dt} = b - ay - x^2 y.\n",
    "$$\n",
    "\n",
    "Here $x$ and $y$ represent concentrations of two chemicals, ADP and F6P,\n",
    "and $a$ and $b$ are positive constants.  One of the important features of\n",
    "nonlinear linear equations like these is their *stationary\n",
    "  points*, meaning values of $x$ and $y$ at which the derivatives of both\n",
    "variables become zero simultaneously, so that the variables stop changing\n",
    "and become constant in time.  Setting the derivatives to zero above, the\n",
    "stationary points of our glycolysis equations are solutions of\n",
    "\n",
    "$$\n",
    "-x + ay + x^2 y = 0, \\qquad b - ay - x^2 y = 0.\n",
    "$$\n"
   ]
  },
  {
   "attachments": {},
   "cell_type": "markdown",
   "metadata": {},
   "source": [
    "**a)** Demonstrate analytically that the solution of these equations is\n",
    "\n",
    "$$\n",
    "x = b,\\qquad y = {b\\over a+b^2}\n",
    "$$"
   ]
  },
  {
   "attachments": {},
   "cell_type": "markdown",
   "metadata": {},
   "source": [
    "From, we solve the following equations to find x & y as above:\n",
    "\n",
    "$$\n",
    "-x + ay + x^2 y = 0, \\qquad b - ay - x^2 y = 0\n",
    "$$\n",
    "\n",
    "Where we can use the second equation to get:\n",
    "$$\n",
    "ay + x^2 y = b\n",
    "$$\n",
    "\n",
    "We then substitute $x^2 y = b - ay$ into the first equation to get:\n",
    "\n",
    "$$\n",
    "-x + ay + (b-ay) = 0\n",
    "$$\n",
    "\n",
    "=>\n",
    "\n",
    "$$\n",
    "x = b\n",
    "$$\n",
    "\n",
    "We also substitute this result for x into the second equation to get:\n",
    "\n",
    "$$\n",
    "y = {b - ay\\over b^2}\n",
    "$$\n",
    "\n",
    "Then, we can solve for $y$ as follows:\n",
    "\n",
    "$$\n",
    "y = {b\\over a+b^2}\n",
    "$$\n",
    "\n",
    "Therefore,\n",
    "\n",
    "$$\n",
    "x = b,\\qquad y = {b\\over a+b^2}\n",
    "$$"
   ]
  },
  {
   "attachments": {},
   "cell_type": "markdown",
   "metadata": {},
   "source": [
    "**Pts /5**"
   ]
  },
  {
   "attachments": {},
   "cell_type": "markdown",
   "metadata": {},
   "source": [
    "**b)** Show that the equations can be rearranged to read\n",
    "\n",
    "$$\n",
    "x = y(a+x^2),\\qquad y = {b\\over a+x^2}.\n",
    "$$\n",
    "\n",
    " "
   ]
  },
  {
   "attachments": {},
   "cell_type": "markdown",
   "metadata": {},
   "source": [
    "We are given that,\n",
    "\n",
    "$$\n",
    "{dx\\over dt} = -x + ay + x^2 y \\qquad\n",
    "{dy\\over  dt} = b - ay - x^2 y\n",
    "$$\n",
    "\n",
    "First, we re-arrange the first equation to get,\n",
    "\n",
    "$$\n",
    "x + x^2 y = ay\n",
    "$$\n",
    "\n",
    "We can use $y = (b-ay)/x^2$ from the second equatio to eliminate $y$,\n",
    "\n",
    "$$\n",
    "x + x^2 {(b-ay)\\over x^2} = a {(b-ay)\\over x^2}\n",
    "$$\n",
    "\n",
    "=>\n",
    "\n",
    "$$\n",
    "x = y(a+x^2)\n",
    "$$\n",
    "\n",
    "Similarly, the second equation can be re-arranged to get,\n",
    "$$\n",
    "x^2 y = b - ay\n",
    "$$\n",
    "\n",
    "Like from part a, we can use $y = (b-ay)/x^2$ to eliminate $y$,\n",
    "\n",
    "$$\n",
    "x^2 {(b-ay)\\over x^2} = b - ay\n",
    "$$\n",
    "\n",
    "=>\n",
    "\n",
    "$$\n",
    "y = {b\\over a+x^2}\n",
    "$$\n",
    "\n",
    "Therefore,\n",
    "\n",
    "$$\n",
    "x = y(a+x^2),\\qquad y = {b\\over a+x^2}\n",
    "$$"
   ]
  },
  {
   "attachments": {},
   "cell_type": "markdown",
   "metadata": {},
   "source": [
    "**/5pts** "
   ]
  },
  {
   "attachments": {},
   "cell_type": "markdown",
   "metadata": {},
   "source": [
    "Write a program to solve these for the stationary point using the\n",
    "relaxation method with $a=1$ and $b=2$.  You should find that the method\n",
    "fails to converge to a solution in this case. Output x,y, and the iteration number for 100 iterations."
   ]
  },
  {
   "cell_type": "code",
   "execution_count": 1,
   "metadata": {},
   "outputs": [
    {
     "name": "stdout",
     "output_type": "stream",
     "text": [
      "Failed to converge after 100 iterations\n",
      "Final values: x = 0.636383990038212, y = 1.999928171652484\n"
     ]
    }
   ],
   "source": [
    "### PH 322 - HW #7, Q6.12.b.)\n",
    "## Credits: ChatGPT for math implementation\n",
    "\n",
    "a = 1.0\n",
    "b = 2.0\n",
    "x = 0.0\n",
    "y = 0.0\n",
    "tolerance = 1e-6\n",
    "max_iterations = 100\n",
    "\n",
    "for i in range(max_iterations):\n",
    "    xnew = y*(a+x**2)\n",
    "    ynew = b/(a+x**2)\n",
    "    if abs(xnew - x) < tolerance and abs(ynew - y) < tolerance:\n",
    "        print(\"Converged to x = {}, y = {} after {} iterations\".format(xnew, ynew, i+1))\n",
    "        break\n",
    "    x, y = xnew, ynew\n",
    "else:\n",
    "    print(\"Failed to converge after {} iterations\".format(max_iterations))\n",
    "print(\"Final values: x = {}, y = {}\".format(x, y))"
   ]
  },
  {
   "attachments": {},
   "cell_type": "markdown",
   "metadata": {},
   "source": [
    "**/5pts**"
   ]
  },
  {
   "attachments": {},
   "cell_type": "markdown",
   "metadata": {},
   "source": [
    "**c)**  Find a different way to rearrange the equations such that when you\n",
    "  apply the relaxation method again it now converges to a fixed point and\n",
    "  gives a solution.  Have your code output the solution x,y. "
   ]
  },
  {
   "attachments": {},
   "cell_type": "markdown",
   "metadata": {},
   "source": [
    "$$\n",
    "{b \\over x^2 + a} = a - x.\n",
    "$$\n",
    "=>\n",
    "$$\n",
    "x^3 + ax - b = 0.\n",
    "$$"
   ]
  },
  {
   "cell_type": "code",
   "execution_count": 29,
   "metadata": {},
   "outputs": [
    {
     "name": "stdout",
     "output_type": "stream",
     "text": [
      "Converged to x = 0.6368836043108796, y = 0.6368826417443407 after 54 iterations\n",
      "Final values: x = 0.6368826212877992, y = 0.6368822857057842\n"
     ]
    }
   ],
   "source": [
    "### PH 322 - HW #7, Q6.12.c.)\n",
    "## Credits: ChatGPT for math implementation\n",
    "\n",
    "a = 1.0\n",
    "b = 1.0\n",
    "x = 0.5\n",
    "y = 0.5\n",
    "tolerance = 1e-6\n",
    "max_iterations = 100\n",
    "\n",
    "for i in range(max_iterations):\n",
    "    xnew = (b - a*y*x**2)/(1 + x**2*y**2)\n",
    "    ynew = (b - a*xnew**2*y)/(1 + xnew**2*y**2)\n",
    "    if abs(xnew - x) < tolerance and abs(ynew - y) < tolerance:\n",
    "        print(\"Converged to x = {}, y = {} after {} iterations\".format(xnew, ynew, i+1))\n",
    "        break\n",
    "    x, y = xnew, ynew\n",
    "else:\n",
    "    print(\"Failed to converge after {} iterations\".format(max_iterations))\n",
    "print(\"Final values: x = {}, y = {}\".format(x, y))"
   ]
  },
  {
   "attachments": {},
   "cell_type": "markdown",
   "metadata": {},
   "source": [
    "**Pts /5pts**"
   ]
  },
  {
   "attachments": {},
   "cell_type": "markdown",
   "metadata": {},
   "source": [
    "**Total Exercise Pts /20**"
   ]
  },
  {
   "attachments": {
    "exercise_6.14.PNG": {
     "image/png": "[encoded data removed]"
    }
   },
   "cell_type": "markdown",
   "metadata": {},
   "source": [
    "## Exercise 6.14:  Particle in a well- Binary search\n",
    "\n",
    "Consider a square potential well of width $w$, with walls of height $V$:\n",
    "\n",
    "![exercise_6.14.PNG](attachment:exercise_6.14.PNG)\n",
    "\n",
    "\n",
    "Using Schrödinger's equation, it can be shown that the allowed\n",
    "energies $E$ of a single quantum particle of mass $m$ trapped in the well\n",
    "are solutions of\n",
    "$\n",
    "\\tan \\sqrt{w^2mE/2\\hbar^2} = \\left\\lbrace\\begin{array}{ll}\n",
    "  \\sqrt{(V-E)/E} & \\qquad\\mbox{for the even numbered states,} \\\\\n",
    "  - \\sqrt{E/(V-E)}  & \\qquad\\mbox{for the odd numbered states,}\n",
    "\\end{array}\\right.\n",
    "$\n",
    "\n",
    "where the states are numbered starting from 0, with the ground state being\n",
    "state 0, the first excited state being state 1, and so forth.\n",
    "\n",
    "**a)**\n",
    "\n",
    " For an electron (mass $9.1094\\times10^{-31}\\,$kg) in a well with $V =\n",
    "  20\\,$eV and $w = 1\\,$nm, write a Python program to plot the three\n",
    "  quantities\n",
    "\n",
    "$$\n",
    "y_1 = \\tan \\sqrt{w^2mE/2\\hbar^2},\\qquad\n",
    "y_2 = \\sqrt{V-E\\over E},\\qquad\n",
    "y_3 = -\\sqrt{E\\over V-E},\n",
    "$$\n",
    "\n",
    "on the same graph, as a function of $E$ from $E=0$ to $E=20\\,$eV.  Include a legend and label each function. From\n",
    "your plot make approximate estimates of the energies of the first six\n",
    "energy levels of the particle.  Hint: You will need to zoom into your plot to find points of intersection. Do not include discontinuities.  \n"
   ]
  },
  {
   "cell_type": "code",
   "execution_count": 34,
   "metadata": {},
   "outputs": [
    {
     "name": "stderr",
     "output_type": "stream",
     "text": [
      "C:\\Users\\Dan\\AppData\\Local\\Temp\\ipykernel_36748\\1409463639.py:19: RuntimeWarning: divide by zero encountered in divide\n",
      "  return np.sqrt((V-E)/E)\n",
      "C:\\Users\\Dan\\AppData\\Local\\Temp\\ipykernel_36748\\1409463639.py:22: RuntimeWarning: divide by zero encountered in divide\n",
      "  return -np.sqrt(E/(V-E))\n"
     ]
    },
    {
     "data": {
      "image/png": "[encoded data removed]",
      "text/plain": [
       "<Figure size 640x480 with 1 Axes>"
      ]
     },
     "metadata": {},
     "output_type": "display_data"
    },
    {
     "data": {
      "image/png": "[encoded data removed]",
      "text/plain": [
       "<Figure size 640x480 with 1 Axes>"
      ]
     },
     "metadata": {},
     "output_type": "display_data"
    },
    {
     "data": {
      "image/png": "[encoded data removed]",
      "text/plain": [
       "<Figure size 640x480 with 1 Axes>"
      ]
     },
     "metadata": {},
     "output_type": "display_data"
    }
   ],
   "source": [
    "### PH 322 - HW #7, Q6.14.a.)\n",
    "## Credits: ChatGPT for numpy & matplotlib implementation\n",
    "\n",
    "import numpy as np\n",
    "import matplotlib.pyplot as plt\n",
    "\n",
    "## Constants\n",
    "m = 9.1094e-31  # Mass of electron in kg\n",
    "hbar = 1.0546e-34  # Planck's constant over 2*pi in J.s\n",
    "eV = 1.6022e-19  # Electron volt in J\n",
    "V = 20*eV  # Height of well walls\n",
    "w = 1e-9  # Width of well in m\n",
    "\n",
    "## Define functions\n",
    "def y1(E):\n",
    "    return np.tan(np.sqrt(w**2*m*E/2/hbar**2))\n",
    "\n",
    "def y2(E):\n",
    "    return np.sqrt((V-E)/E)\n",
    "\n",
    "def y3(E):\n",
    "    return -np.sqrt(E/(V-E))\n",
    "\n",
    "## Plot 1\n",
    "E = np.linspace(0, 20*eV, num=1000)\n",
    "plt.plot(E/eV, y1(E), label=\"y1\")\n",
    "plt.plot(E/eV, y2(E), label=\"y2\")\n",
    "plt.plot(E/eV, y3(E), label=\"y3\")\n",
    "plt.title('PH 322, HW #7 - Q6.4a: Unzoomed-in graph [#1]')\n",
    "# plt.xlim(0, 5)\n",
    "# plt.ylim(-10, 10)\n",
    "plt.xlabel(\"E (eV)\")\n",
    "plt.legend()\n",
    "plt.show()\n",
    "\n",
    "## Plot 2\n",
    "E = np.linspace(0, 20*eV, num=1000)\n",
    "plt.plot(E/eV, y1(E), label=\"y1\")\n",
    "plt.plot(E/eV, y2(E), label=\"y2\")\n",
    "plt.plot(E/eV, y3(E), label=\"y3\")\n",
    "plt.title('PH 322, HW #7 - Q6.4a: Zoomed-in Intersection Graph, Part I [#2]')\n",
    "plt.xlim(0, 5)\n",
    "plt.ylim(-10, 10)\n",
    "plt.xlabel(\"E (eV)\")\n",
    "plt.legend()\n",
    "plt.show()\n",
    "\n",
    "## Plot 2\n",
    "E = np.linspace(0, 20*eV, num=1000)\n",
    "plt.plot(E/eV, y1(E), label=\"y1\")\n",
    "plt.plot(E/eV, y2(E), label=\"y2\")\n",
    "plt.plot(E/eV, y3(E), label=\"y3\")\n",
    "plt.title('PH 322, HW #7 - Q6.4a: Zoomed-in Intersection Graph, Part II [#3]')\n",
    "plt.xlim(5, 20)\n",
    "plt.ylim(-10, 10)\n",
    "plt.xlabel(\"E (eV)\")\n",
    "plt.legend()\n",
    "plt.show()"
   ]
  },
  {
   "attachments": {},
   "cell_type": "markdown",
   "metadata": {},
   "source": [
    "At level 0, ~1.6 eV (?)\n",
    "\n",
    "At level 1, ~4 eV (?)\n",
    "\n",
    "At level 2, ~7.2 eV (?)\n",
    "\n",
    "At level 3, ~10.5 eV (?)\n",
    "\n",
    "At level 4, ~14.5 eV (?)\n",
    "\n",
    "At level 5, ~18.5 eV (?)\n",
    "\n"
   ]
  },
  {
   "attachments": {},
   "cell_type": "markdown",
   "metadata": {},
   "source": [
    "**Pts /10**"
   ]
  },
  {
   "attachments": {},
   "cell_type": "markdown",
   "metadata": {},
   "source": [
    "**b)** Write a second program to calculate the values of the first six\n",
    "  energy levels in electron volts to an accuracy of $0.001\\,$eV using\n",
    "  binary search. Have your program output the 6 values in units of eV.  Hint: Zoom into your plot to define appropriate initial intervals.\n",
    " \n"
   ]
  },
  {
   "cell_type": "code",
   "execution_count": 40,
   "metadata": {},
   "outputs": [
    {
     "name": "stdout",
     "output_type": "stream",
     "text": [
      "Ground Energy Level: 2.851 eV\n",
      "1st Energy Level: 5.000 eV\n",
      "2nd Energy Level: 7.850 eV\n",
      "3rd Energy Level: 11.215 eV\n",
      "4th Energy Level: 15.071 eV\n",
      "5th Energy Level: 19.135 eV\n"
     ]
    }
   ],
   "source": [
    "### PH 322 - HW #7, Q6.14.b.)\n",
    "## Credits: ChatGPT for math implementation\n",
    "\n",
    "def binary_search(func, a, b, target, tol):\n",
    "    while abs(a - b) > tol:\n",
    "        mid = (a + b) / 2\n",
    "        if func(mid) < target:\n",
    "            a = mid\n",
    "        else:\n",
    "            b = mid\n",
    "    return (a + b) / 2\n",
    "\n",
    "def find_energy_level(is_even, level_num, tol=0.001*eV):\n",
    "    if is_even:\n",
    "        target_func = lambda E: y1(E) - y2(E)\n",
    "    else:\n",
    "        target_func = lambda E: y1(E) - y3(E)\n",
    "\n",
    "    # Set the initial search interval based on the plot\n",
    "    if level_num == 0:\n",
    "        a, b = 0, 3*eV\n",
    "    elif level_num == 1:\n",
    "        a, b = 3*eV, 5*eV\n",
    "    elif level_num == 2:\n",
    "        a, b = 5*eV, 9*eV\n",
    "    elif level_num == 3:\n",
    "        a, b = 9*eV, 12*eV\n",
    "    elif level_num == 4:\n",
    "        a, b = 12*eV, 17*eV\n",
    "    elif level_num == 5:\n",
    "        a, b = 17*eV, 20*eV\n",
    "    else:\n",
    "        raise ValueError(\"Invalid level number\")\n",
    "\n",
    "    # Perform binary search\n",
    "    energy = binary_search(target_func, a, b, 0, tol)\n",
    "    return energy\n",
    "\n",
    "# Find the first six energy levels\n",
    "energy_levels = [find_energy_level(level_num % 2 == 0, level_num) for level_num in range(6)]\n",
    "\n",
    "# Print the energy levels in eV\n",
    "for i, E in enumerate(energy_levels):\n",
    "    # A lil unnecessarily fancy way but wanted to make sure the number output was correct, hehe\n",
    "    if i == 0:\n",
    "         print(f\"Ground Energy Level: {E/eV:.3f} eV\")\n",
    "    elif i == 1:\n",
    "         print(f\"{i}st Energy Level: {E/eV:.3f} eV\")\n",
    "    elif i == 2:\n",
    "         print(f\"{i}nd Energy Level: {E/eV:.3f} eV\")\n",
    "    elif i == 3:\n",
    "         print(f\"{i}rd Energy Level: {E/eV:.3f} eV\")\n",
    "    else:\n",
    "        print(f\"{i}th Energy Level: {E/eV:.3f} eV\")"
   ]
  },
  {
   "attachments": {},
   "cell_type": "markdown",
   "metadata": {},
   "source": [
    "**Pts /10**"
   ]
  },
  {
   "attachments": {},
   "cell_type": "markdown",
   "metadata": {},
   "source": [
    "**Total Exercise Pts /20**"
   ]
  },
  {
   "attachments": {},
   "cell_type": "markdown",
   "metadata": {},
   "source": [
    "## Exercise 6.16: Lagrange point - Newton's method\n",
    "\n",
    "There is a magical point between the Earth and the Moon, called the $L_1$ Lagrange point, at which a satellite will orbit the Earth in perfect synchrony with the Moon, staying always in between the two.  This works because the inward pull of the Earth and the outward pull of the Moon combine to create exactly the needed centripetal force that keeps the satellite in its orbit. Check your textbook for a diagram of the setup.\n",
    "\n",
    "**a)** Assuming circular orbits, and assuming that the Earth is much more massive than either the Moon or the satellite, show that the distance $r$ from the center of the Earth to the $L_1$ point satisfies\n",
    "\n",
    "\\begin{equation*}\n",
    "{GM\\over r^2} - {Gm\\over(R-r)^2} = \\omega^2 r,\n",
    "\\end{equation*}\n",
    "\n",
    "where $M$ and $m$ are the Earth and Moon masses, $G$ is Newton's\n",
    "gravitational constant, and $\\omega$ is the angular velocity of both the\n",
    "Moon and the satellite."
   ]
  },
  {
   "attachments": {},
   "cell_type": "markdown",
   "metadata": {},
   "source": [
    "First, we know the gravitational force based on Earth, which can be written as,\n",
    "\n",
    "$$F_{E} = \\frac{GMm}{r^2}$$\n",
    "\n",
    "where $G$ is Newton's gravitational constant, $M$ is Earth's mass, and $m$ is the satellite's mass, at a given point, $L_1$.\n",
    "\n",
    "The gravitational force due to the Moon is,\n",
    "\n",
    "$$F_{M} = \\frac{GmM_{M}}{(R-r)^2}$$\n",
    "\n",
    "where $M_{M}$ is Moon's mass.\n",
    "\n",
    "Also, to include the centrifugal force due of rotation; since both the Moon and the satellite have the same angular velocity, $\\omega$, thus,\n",
    "\n",
    "$$F_{c} = m\\omega^2 r$$\n",
    "\n",
    "For equilibrium at point $L_1$, the effective gravitational force must equate to the centrifugal force. Thus,\n",
    "\n",
    "$$F_{E} - F_{M} = F_{c}$$\n",
    "\n",
    "Substituting the above equations,\n",
    "\n",
    "$$\\frac{GMm}{r^2} - \\frac{GmM_{M}}{(R-r)^2} = m\\omega^2 r$$\n",
    "\n",
    "Since $m$ appears in every term, we divide both sides by $m$ - therefore,\n",
    "\n",
    "$$\\frac{GM}{r^2} - \\frac{GM_{M}}{(R-r)^2} = \\omega^2 r$$"
   ]
  },
  {
   "attachments": {},
   "cell_type": "markdown",
   "metadata": {},
   "source": [
    "**Pts /5**"
   ]
  },
  {
   "attachments": {},
   "cell_type": "markdown",
   "metadata": {},
   "source": [
    "**b)** The equation above is a fifth-order polynomial equation in $r$ (also called a quintic equation).  Such equations cannot be solved exactly in closed form, but it's straightforward to solve them numerically.  Write a program that uses Newton's method to solve for the distance $r$ from the Earth to the $L_1$ point.  Compute a solution accurate to at least four significant figures. Output your solution with error estimate. \n",
    "\n",
    "  The values of the various parameters are:\n",
    "\\begin{align*}\n",
    "G &= 6.674\\times10^{-11}\\,\\mathrm{m}^3\\mathrm{kg}^{-1}\\mathrm{s}^{-2}, \\\\\n",
    "M &= 5.974\\times10^{24}\\,\\mathrm{kg}, \\\\\n",
    "m &= 7.348\\times10^{22}\\,\\mathrm{kg}, \\\\\n",
    "R &= 3.844\\times10^8\\,\\mathrm{m}, \\\\\n",
    "\\omega &= 2.662\\times10^{-6}\\,\\mathrm{s}^{-1}.\n",
    "\\end{align*}\n",
    "You will also need to choose a suitable starting value for $r$. Think about what value r should be. "
   ]
  },
  {
   "cell_type": "code",
   "execution_count": 41,
   "metadata": {},
   "outputs": [
    {
     "name": "stdout",
     "output_type": "stream",
     "text": [
      "r = 326045071.6653554440\n"
     ]
    }
   ],
   "source": [
    "### PH 322 - Q6.16 - Dan Jang\n",
    "## Credits to ChatGPT for numpy implementation\n",
    "\n",
    "import numpy as np\n",
    "\n",
    "# Constants\n",
    "G = 6.674e-11\n",
    "M = 5.974e24\n",
    "m = 7.348e22\n",
    "R = 3.844e8\n",
    "omega = 2.662e-6\n",
    "tol = 1e-10\n",
    "\n",
    "# Function and its derivative\n",
    "def f(r):\n",
    "    return G*M/r**2 - G*m/(R-r)**2 - omega**2*r\n",
    "\n",
    "def df(r):\n",
    "    return -2*G*M/r**3 - 2*G*m/(R-r)**3 - omega**2\n",
    "\n",
    "# Initial guess\n",
    "r = 0.9*R\n",
    "\n",
    "# Newton's method\n",
    "while True:\n",
    "    r_new = r - f(r)/df(r)\n",
    "    if abs(r_new - r) < tol:\n",
    "        break\n",
    "    r = r_new\n",
    "\n",
    "print(f\"r = {r:.10f}\")\n",
    "\n",
    "# ## Libraries\n",
    "# import math\n",
    "# import numpy as np\n",
    "# from matplotlib.pyplot import plot as plt\n",
    "\n",
    "# ## Constants\n",
    "# G = 6.674e-11\n",
    "# capital_m = 5.974e24\n",
    "# lower_m = 7.348e22\n",
    "# R = 3.844e8\n",
    "# w = 2.662e-6\n",
    "\n",
    "# def quintic_eq(G, capital_m, lower_m, R, w):\n",
    "#     # Original Eq: GM / r^2 - Gm / (R - r)^2 = w^2 r\n",
    "#     # Analytically Solved Eq: (GM / r^2 - Gm / (R - r^2)) / w^2 = r\n",
    "\n",
    "#     result = ((G * capital_m) / (r**2) - ((G * lower_M) / ((R - r)**2)) / (w ** 2))\n",
    "\n",
    "#     return result\n",
    "\n",
    "# def main():\n",
    "    "
   ]
  },
  {
   "attachments": {},
   "cell_type": "markdown",
   "metadata": {},
   "source": [
    "**r = 326045071.6653554440 +/- 1 x 10^-10 m**"
   ]
  },
  {
   "attachments": {},
   "cell_type": "markdown",
   "metadata": {},
   "source": [
    "**Pts /10**"
   ]
  },
  {
   "attachments": {},
   "cell_type": "markdown",
   "metadata": {},
   "source": [
    "**Total Exercise Pts /15**"
   ]
  },
  {
   "attachments": {},
   "cell_type": "markdown",
   "metadata": {},
   "source": [
    "## Exercise 7.2 - Fourier transform of sunspot cycles\n",
    "\n",
    "In the on-line resources there is a file called _sunspots.txt_, which contains the observed number of sunspots on the Sun for each month since January 1749.  The file contains two columns of numbers, the first representing the month and the second being the sunspot number.\n",
    "\n",
    "**a)** Write a program that reads the data in the file and makes a graph of sunspots as a function of time.  You should see that the number of sunspots has fluctuated on a regular cycle for as long as observations have been recorded.  Make an estimate of the length of the cycle in months."
   ]
  },
  {
   "cell_type": "code",
   "execution_count": 1,
   "metadata": {},
   "outputs": [],
   "source": [
    "#Type your code here"
   ]
  },
  {
   "attachments": {},
   "cell_type": "markdown",
   "metadata": {},
   "source": [
    "**Length of cycle in months:**"
   ]
  },
  {
   "attachments": {},
   "cell_type": "markdown",
   "metadata": {},
   "source": [
    "**Pts /5**"
   ]
  },
  {
   "attachments": {},
   "cell_type": "markdown",
   "metadata": {},
   "source": [
    "**b)** Modify your program to calculate the Fourier transform of the sunspot data and then make a graph of the magnitude squared $|c_k|^2$ of the Fourier coefficients as a function of $k$---also called the _power spectrum_ of the sunspot signal.  You should see that there is a noticeable peak in the power spectrum at a nonzero value of $k$.  The appearance of this peak tells us that there is one frequency in the Fourier series that has a higher amplitude than the others around it---meaning that there is a large sine-wave term with this frequency, which corresponds to the periodic wave you can see in the original data."
   ]
  },
  {
   "cell_type": "code",
   "execution_count": 10,
   "metadata": {},
   "outputs": [],
   "source": [
    "#Type your code here"
   ]
  },
  {
   "attachments": {},
   "cell_type": "markdown",
   "metadata": {},
   "source": [
    "**Pts /10**"
   ]
  },
  {
   "attachments": {},
   "cell_type": "markdown",
   "metadata": {},
   "source": [
    "**c)**  Find the approximate value of $k$ to which the peak corresponds.\n",
    "  What is the period of the sine wave with this value of $k$?  You should\n",
    "  find that the period corresponds roughly to the length of the cycle that\n",
    "  you estimated in part (a)."
   ]
  },
  {
   "attachments": {},
   "cell_type": "markdown",
   "metadata": {},
   "source": [
    "*Type your answer here*"
   ]
  },
  {
   "attachments": {},
   "cell_type": "markdown",
   "metadata": {},
   "source": [
    "**Pts /5**"
   ]
  },
  {
   "attachments": {},
   "cell_type": "markdown",
   "metadata": {},
   "source": [
    "**Total Exercise Pts /20**"
   ]
  },
  {
   "attachments": {},
   "cell_type": "markdown",
   "metadata": {},
   "source": [
    "## Total Pts /75"
   ]
  },
  {
   "cell_type": "code",
   "execution_count": null,
   "metadata": {},
   "outputs": [],
   "source": []
  }
 ],
 "metadata": {
  "kernelspec": {
   "display_name": "Python 3 (ipykernel)",
   "language": "python",
   "name": "python3"
  },
  "language_info": {
   "codemirror_mode": {
    "name": "ipython",
    "version": 3
   },
   "file_extension": ".py",
   "mimetype": "text/x-python",
   "name": "python",
   "nbconvert_exporter": "python",
   "pygments_lexer": "ipython3",
   "version": "3.10.4"
  }
 },
 "nbformat": 4,
 "nbformat_minor": 4
}
