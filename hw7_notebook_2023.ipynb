{
 "cells": [
  {
   "cell_type": "markdown",
   "metadata": {},
   "source": [
    "## Homework 7\n",
    "\n",
    "\n",
    "Name:\n",
    "\n",
    "Comments for instructor/grader:\n"
   ]
  },
  {
   "cell_type": "markdown",
   "metadata": {},
   "source": [
    "## Exercise 6.12: Glycolysis - relaxation method\n",
    "\n",
    "The biochemical process of *glycolysis*, the\n",
    "  breakdown of glucose in the body to release energy, can be modeled by the\n",
    "  equations\n",
    "$$\n",
    "{dx\\over dt} = -x + ay + x^2 y, \\qquad\n",
    "{dy\\over  dt} = b - ay - x^2 y.\n",
    "$$\n",
    "\n",
    "Here $x$ and $y$ represent concentrations of two chemicals, ADP and F6P,\n",
    "and $a$ and $b$ are positive constants.  One of the important features of\n",
    "nonlinear linear equations like these is their *stationary\n",
    "  points*, meaning values of $x$ and $y$ at which the derivatives of both\n",
    "variables become zero simultaneously, so that the variables stop changing\n",
    "and become constant in time.  Setting the derivatives to zero above, the\n",
    "stationary points of our glycolysis equations are solutions of\n",
    "\n",
    "$$\n",
    "-x + ay + x^2 y = 0, \\qquad b - ay - x^2 y = 0.\n",
    "$$\n"
   ]
  },
  {
   "cell_type": "markdown",
   "metadata": {},
   "source": [
    "**a)** Demonstrate analytically that the solution of these equations is\n",
    "\n",
    "$$\n",
    "x = b,\\qquad y = {b\\over a+b^2}\n",
    "$$"
   ]
  },
  {
   "cell_type": "markdown",
   "metadata": {},
   "source": [
    "*Type solution here or insert image*"
   ]
  },
  {
   "cell_type": "markdown",
   "metadata": {},
   "source": [
    "**Pts /5**"
   ]
  },
  {
   "cell_type": "markdown",
   "metadata": {},
   "source": [
    "**b)** Show that the equations can be rearranged to read\n",
    "\n",
    "$$\n",
    "x = y(a+x^2),\\qquad y = {b\\over a+x^2}.\n",
    "$$\n",
    "\n",
    " "
   ]
  },
  {
   "cell_type": "markdown",
   "metadata": {},
   "source": [
    "*Type solution here or insert image*"
   ]
  },
  {
   "cell_type": "markdown",
   "metadata": {},
   "source": [
    "**/5pts** "
   ]
  },
  {
   "cell_type": "markdown",
   "metadata": {},
   "source": [
    "Write a program to solve these for the stationary point using the\n",
    "relaxation method with $a=1$ and $b=2$.  You should find that the method\n",
    "fails to converge to a solution in this case. Output x,y, and the iteration number for 100 iterations."
   ]
  },
  {
   "cell_type": "code",
   "execution_count": 1,
   "metadata": {},
   "outputs": [],
   "source": [
    "# Type code here"
   ]
  },
  {
   "cell_type": "markdown",
   "metadata": {},
   "source": [
    "**/5pts**"
   ]
  },
  {
   "cell_type": "markdown",
   "metadata": {},
   "source": [
    "**c)**  Find a different way to rearrange the equations such that when you\n",
    "  apply the relaxation method again it now converges to a fixed point and\n",
    "  gives a solution.  Have your code output the solution x,y. "
   ]
  },
  {
   "cell_type": "markdown",
   "metadata": {},
   "source": [
    "*Type new equations here or insert image*"
   ]
  },
  {
   "cell_type": "code",
   "execution_count": 2,
   "metadata": {},
   "outputs": [],
   "source": [
    "#Type your code here"
   ]
  },
  {
   "cell_type": "markdown",
   "metadata": {},
   "source": [
    "**Pts /5pts**"
   ]
  },
  {
   "cell_type": "markdown",
   "metadata": {},
   "source": [
    "**Total Exercise Pts /20**"
   ]
  },
  {
   "attachments": {
    "exercise_6.14.PNG": {
     "image/png": "[encoded data removed]"
    }
   },
   "cell_type": "markdown",
   "metadata": {},
   "source": [
    "## Exercise 6.14:  Particle in a well- Binary search\n",
    "\n",
    "Consider a square potential well of width $w$, with walls of height $V$:\n",
    "\n",
    "![exercise_6.14.PNG](attachment:exercise_6.14.PNG)\n",
    "\n",
    "\n",
    "Using Schr$\\ddot o$dinger's equation, it can be shown that the allowed\n",
    "energies $E$ of a single quantum particle of mass $m$ trapped in the well\n",
    "are solutions of\n",
    "$\n",
    "\\tan \\sqrt{w^2mE/2\\hbar^2} = \\left\\lbrace\\begin{array}{ll}\n",
    "  \\sqrt{(V-E)/E} & \\qquad\\mbox{for the even numbered states,} \\\\\n",
    "  - \\sqrt{E/(V-E)}  & \\qquad\\mbox{for the odd numbered states,}\n",
    "\\end{array}\\right.\n",
    "$\n",
    "\n",
    "where the states are numbered starting from 0, with the ground state being\n",
    "state 0, the first excited state being state 1, and so forth.\n",
    "\n",
    "**a)**\n",
    "\n",
    " For an electron (mass $9.1094\\times10^{-31}\\,$kg) in a well with $V =\n",
    "  20\\,$eV and $w = 1\\,$nm, write a Python program to plot the three\n",
    "  quantities\n",
    "\n",
    "$$\n",
    "y_1 = \\tan \\sqrt{w^2mE/2\\hbar^2},\\qquad\n",
    "y_2 = \\sqrt{V-E\\over E},\\qquad\n",
    "y_3 = -\\sqrt{E\\over V-E},\n",
    "$$\n",
    "\n",
    "on the same graph, as a function of $E$ from $E=0$ to $E=20\\,$eV.  Include a legend and label each function. From\n",
    "your plot make approximate estimates of the energies of the first six\n",
    "energy levels of the particle.  Hint: You will need to zoom into your plot to find points of intersection. Do not include discontinuities.  \n"
   ]
  },
  {
   "cell_type": "code",
   "execution_count": 3,
   "metadata": {},
   "outputs": [],
   "source": [
    "# Type code here"
   ]
  },
  {
   "cell_type": "markdown",
   "metadata": {},
   "source": [
    "**Type your estimates of energy here**\n",
    "\n"
   ]
  },
  {
   "cell_type": "markdown",
   "metadata": {},
   "source": [
    "**Pts /10**"
   ]
  },
  {
   "cell_type": "markdown",
   "metadata": {},
   "source": [
    "**b)** Write a second program to calculate the values of the first six\n",
    "  energy levels in electron volts to an accuracy of $0.001\\,$eV using\n",
    "  binary search. Have your program output the 6 values in units of eV.  Hint: Zoom into your plot to define appropriate initial intervals.\n",
    " \n"
   ]
  },
  {
   "cell_type": "code",
   "execution_count": 4,
   "metadata": {},
   "outputs": [],
   "source": [
    "# Type your code here"
   ]
  },
  {
   "cell_type": "markdown",
   "metadata": {},
   "source": [
    "**Pts /10**"
   ]
  },
  {
   "cell_type": "markdown",
   "metadata": {},
   "source": [
    "**Total Exercise Pts /20**"
   ]
  },
  {
   "cell_type": "markdown",
   "metadata": {},
   "source": [
    "## Exercise 6.16: Lagrange point - Newton's method\n",
    "\n",
    "There is a magical point between the Earth and the Moon, called the $L_1$ Lagrange point, at which a satellite will orbit the Earth in perfect synchrony with the Moon, staying always in between the two.  This works because the inward pull of the Earth and the outward pull of the Moon combine to create exactly the needed centripetal force that keeps the satellite in its orbit. Check your textbook for a diagram of the setup.\n",
    "\n",
    "**a)** Assuming circular orbits, and assuming that the Earth is much more massive than either the Moon or the satellite, show that the distance $r$ from the center of the Earth to the $L_1$ point satisfies\n",
    "\n",
    "\\begin{equation*}\n",
    "{GM\\over r^2} - {Gm\\over(R-r)^2} = \\omega^2 r,\n",
    "\\end{equation*}\n",
    "\n",
    "where $M$ and $m$ are the Earth and Moon masses, $G$ is Newton's\n",
    "gravitational constant, and $\\omega$ is the angular velocity of both the\n",
    "Moon and the satellite."
   ]
  },
  {
   "cell_type": "markdown",
   "metadata": {},
   "source": [
    "*Type your answer here or insert an image*"
   ]
  },
  {
   "cell_type": "markdown",
   "metadata": {},
   "source": [
    "**Pts /5**"
   ]
  },
  {
   "cell_type": "markdown",
   "metadata": {},
   "source": [
    "**b)** The equation above is a fifth-order polynomial equation in $r$ (also called a quintic equation).  Such equations cannot be solved exactly in closed form, but it's straightforward to solve them numerically.  Write a program that uses Newton's method to solve for the distance $r$ from the Earth to the $L_1$ point.  Compute a solution accurate to at least four significant figures. Output your solution with error estimate. \n",
    "\n",
    "  The values of the various parameters are:\n",
    "\\begin{align*}\n",
    "G &= 6.674\\times10^{-11}\\,\\mathrm{m}^3\\mathrm{kg}^{-1}\\mathrm{s}^{-2}, \\\\\n",
    "M &= 5.974\\times10^{24}\\,\\mathrm{kg}, \\\\\n",
    "m &= 7.348\\times10^{22}\\,\\mathrm{kg}, \\\\\n",
    "R &= 3.844\\times10^8\\,\\mathrm{m}, \\\\\n",
    "\\omega &= 2.662\\times10^{-6}\\,\\mathrm{s}^{-1}.\n",
    "\\end{align*}\n",
    "You will also need to choose a suitable starting value for $r$. Think about what value r should be. "
   ]
  },
  {
   "cell_type": "code",
   "execution_count": 5,
   "metadata": {},
   "outputs": [],
   "source": [
    "#Type your code here"
   ]
  },
  {
   "cell_type": "markdown",
   "metadata": {},
   "source": [
    "**r = _____ +/- _______m**"
   ]
  },
  {
   "cell_type": "markdown",
   "metadata": {},
   "source": [
    "**Pts /10**"
   ]
  },
  {
   "cell_type": "markdown",
   "metadata": {},
   "source": [
    "**Total Exercise Pts /15**"
   ]
  },
  {
   "cell_type": "markdown",
   "metadata": {},
   "source": [
    "## Exercise 7.2 - Fourier transform of sunspot cycles\n",
    "\n",
    "In the on-line resources there is a file called _sunspots.txt_, which contains the observed number of sunspots on the Sun for each month since January 1749.  The file contains two columns of numbers, the first representing the month and the second being the sunspot number.\n",
    "\n",
    "**a)** Write a program that reads the data in the file and makes a graph of sunspots as a function of time.  You should see that the number of sunspots has fluctuated on a regular cycle for as long as observations have been recorded.  Make an estimate of the length of the cycle in months."
   ]
  },
  {
   "cell_type": "code",
   "execution_count": 1,
   "metadata": {},
   "outputs": [],
   "source": [
    "#Type your code here"
   ]
  },
  {
   "cell_type": "markdown",
   "metadata": {},
   "source": [
    "**Length of cycle in months:**"
   ]
  },
  {
   "cell_type": "markdown",
   "metadata": {},
   "source": [
    "**Pts /5**"
   ]
  },
  {
   "cell_type": "markdown",
   "metadata": {},
   "source": [
    "**b)** Modify your program to calculate the Fourier transform of the sunspot data and then make a graph of the magnitude squared $|c_k|^2$ of the Fourier coefficients as a function of $k$---also called the _power spectrum_ of the sunspot signal.  You should see that there is a noticeable peak in the power spectrum at a nonzero value of $k$.  The appearance of this peak tells us that there is one frequency in the Fourier series that has a higher amplitude than the others around it---meaning that there is a large sine-wave term with this frequency, which corresponds to the periodic wave you can see in the original data."
   ]
  },
  {
   "cell_type": "code",
   "execution_count": 10,
   "metadata": {},
   "outputs": [],
   "source": [
    "#Type your code here"
   ]
  },
  {
   "cell_type": "markdown",
   "metadata": {},
   "source": [
    "**Pts /10**"
   ]
  },
  {
   "cell_type": "markdown",
   "metadata": {},
   "source": [
    "**c)**  Find the approximate value of $k$ to which the peak corresponds.\n",
    "  What is the period of the sine wave with this value of $k$?  You should\n",
    "  find that the period corresponds roughly to the length of the cycle that\n",
    "  you estimated in part (a)."
   ]
  },
  {
   "cell_type": "markdown",
   "metadata": {},
   "source": [
    "*Type your answer here*"
   ]
  },
  {
   "cell_type": "markdown",
   "metadata": {},
   "source": [
    "**Pts /5**"
   ]
  },
  {
   "cell_type": "markdown",
   "metadata": {},
   "source": [
    "**Total Exercise Pts /20**"
   ]
  },
  {
   "cell_type": "markdown",
   "metadata": {},
   "source": [
    "## Total Pts /75"
   ]
  },
  {
   "cell_type": "code",
   "execution_count": null,
   "metadata": {},
   "outputs": [],
   "source": []
  }
 ],
 "metadata": {
  "kernelspec": {
   "display_name": "Python 3 (ipykernel)",
   "language": "python",
   "name": "python3"
  },
  "language_info": {
   "codemirror_mode": {
    "name": "ipython",
    "version": 3
   },
   "file_extension": ".py",
   "mimetype": "text/x-python",
   "name": "python",
   "nbconvert_exporter": "python",
   "pygments_lexer": "ipython3",
   "version": "3.7.16"
  }
 },
 "nbformat": 4,
 "nbformat_minor": 4
}
