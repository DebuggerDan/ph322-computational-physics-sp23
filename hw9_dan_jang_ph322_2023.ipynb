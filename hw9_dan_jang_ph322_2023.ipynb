{
 "cells": [
  {
   "cell_type": "markdown",
   "metadata": {},
   "source": [
    "## Homework 9  \n",
    "\n",
    "\n",
    "\n",
    "Name:\n",
    "\n",
    "Comments for instructor:\n"
   ]
  },
  {
   "cell_type": "markdown",
   "metadata": {},
   "source": [
    "## Exercise 8.5 The driven pendulum: Second order ODE\n",
    "\n",
    "A pendulum like the one in Exercise 8.4 can be driven by, for example, exerting a small oscillating force horizontally on the mass.  Then the equation of motion for the pendulum becomes\n",
    "\n",
    "\\begin{equation*}\n",
    "{d^2\\theta\\over d t^2} = - {g\\over\\ell}\\sin\\theta\n",
    "  + C \\cos\\theta \\sin\\Omega t,\n",
    "\\end{equation*}\n",
    "\n",
    "where $C$ and $\\Omega$ are constants.\n",
    "\n",
    "**a)** \n",
    "Write a program to solve this equation for $\\theta$ as a function of time with $\\ell=10\\,$cm, $C=2\\,\\mathrm{s}^{-2}$ and $\\Omega=5\\,\\mathrm{s}^{-1}$ and make a plot of $\\theta$ as a function of time from $t=0$ to $t=100\\,$s.  Start the pendulum at rest with $\\theta=0$ and $d\\theta/ d t=0$."
   ]
  },
  {
   "cell_type": "code",
   "execution_count": null,
   "metadata": {},
   "outputs": [],
   "source": [
    "#Type your code here"
   ]
  },
  {
   "cell_type": "markdown",
   "metadata": {},
   "source": [
    "**Pts /10**"
   ]
  },
  {
   "cell_type": "markdown",
   "metadata": {},
   "source": [
    "**b)** \n",
    "Now change the value of $\\Omega$, while keeping $C$ the same, to find a value for which the pendulum resonates with the driving force and swings widely from side to side.  Make a plot for this case also."
   ]
  },
  {
   "cell_type": "code",
   "execution_count": 4,
   "metadata": {},
   "outputs": [],
   "source": [
    "#Type your code here"
   ]
  },
  {
   "cell_type": "markdown",
   "metadata": {},
   "source": [
    "**Value of $\\Omega$:**"
   ]
  },
  {
   "cell_type": "markdown",
   "metadata": {},
   "source": [
    "**Pts /5**"
   ]
  },
  {
   "cell_type": "markdown",
   "metadata": {},
   "source": [
    "**Extra Credit** Create animations of the motion of the pendulum using Vpython, one when the driving frequency is far from resonance as in part a, and one when it is near resonance as in part b. "
   ]
  },
  {
   "cell_type": "code",
   "execution_count": 5,
   "metadata": {},
   "outputs": [],
   "source": [
    "#Type your code here"
   ]
  },
  {
   "cell_type": "markdown",
   "metadata": {},
   "source": [
    "**XC Pts /5**"
   ]
  },
  {
   "cell_type": "markdown",
   "metadata": {},
   "source": [
    "**Total Exercise Pts /15**"
   ]
  },
  {
   "cell_type": "markdown",
   "metadata": {},
   "source": [
    "## Exercise 8.10 Cometary orbits: Adaptive step size\n",
    "\n",
    "Many comets travel in highly elongated orbits around the Sun.  For much of their lives they are far out in the solar system, moving very slowly, but on rare occasions their orbit brings them close to the Sun for a fly-by and for a brief period of time they move very fast indeed (check your textbook for a diagram).\n",
    "\n",
    "This is a classic example of a system for which an adaptive step size method is useful, because for the large periods of time when the comet is moving slowly we can use long time-steps, so that the program runs quickly, but short time-steps are crucial in the brief but fast-moving period close to the Sun.\n",
    "\n",
    "The differential equation obeyed by a comet is straightforward to derive.  The force between the Sun, with mass $M$ at the origin, and a comet of mass $m$ with position vector $\\vec{r}$ is $GMm/r^2$ in direction $-\\vec{r}/r$ (i.e., the direction towards the Sun), and hence Newton's second law tells us that\n",
    "\n",
    "\\begin{equation*}\n",
    "m {d^2\\vec{r}\\over d t^2} = -\\biggl({GMm\\over r^2}\\biggr)\\,{\\vec{r}\\over r}.\n",
    "\\end{equation*}\n",
    "\n",
    "Canceling the $m$ and taking the $x$ component we have\n",
    "\n",
    "\\begin{equation*}\n",
    "{d^2 x\\over d t^2} = -GM {x\\over r^3}\\,,\n",
    "\\end{equation*}\n",
    "\n",
    "and similarly for the other two coordinates.  We can, however, throw out one of the coordinates because the comet stays in a single plane as it orbits.  If we orient our axes so that this plane is perpendicular to the $z$-axis, we can forget about the $z$ coordinate and we are left with just two second-order equations to solve:\n",
    "\n",
    "\\begin{equation*}\n",
    "{d^2 x\\over d t^2} = -GM {x\\over r^3}\\,, \\qquad\n",
    "{d^2 y\\over d t^2} = -GM {y\\over r^3}\\,,\n",
    "\\end{equation*}\n",
    "\n",
    "where $r=\\sqrt{x^2+y^2}$.\n",
    "\n",
    "**a)** \n",
    "Turn these two second-order equations into four first-order equations, using the methods you have learned."
   ]
  },
  {
   "cell_type": "markdown",
   "metadata": {},
   "source": [
    "**Type your response here or insert an image**"
   ]
  },
  {
   "cell_type": "markdown",
   "metadata": {},
   "source": [
    "**Pts /5**"
   ]
  },
  {
   "cell_type": "markdown",
   "metadata": {},
   "source": [
    "**b)** \n",
    "Write a program to solve your equations using the fourth-order Runge--Kutta method with a _fixed_ step size.  You will need to look up the mass of the Sun and Newton's gravitational constant $G$.  As an initial condition, take a comet at coordinates $x=4$ billion kilometers and $y=0$ (which is somewhere out around the orbit of Neptune) with initial velocity $v_x=0$ and $v_y = 500\\,\\mathrm{m\\,s}^{-1}$.  Make a graph showing the trajectory of the comet (i.e., a plot of $y$ against $x$).\n",
    "\n",
    "Choose a fixed step size $h$ that allows you to accurately calculate at least two full orbits of the comet.  Since orbits are periodic, a good indicator of an accurate calculation is that successive orbits of the comet lie on top of one another on your plot.  If they do not then you need a smaller value of $h$. "
   ]
  },
  {
   "cell_type": "code",
   "execution_count": 6,
   "metadata": {},
   "outputs": [],
   "source": [
    "#Type your code here"
   ]
  },
  {
   "cell_type": "markdown",
   "metadata": {},
   "source": [
    "**Give a short description of your findings. What value of $h$ did you use?  What did you observe in your simulation? How long did the calculation take?**"
   ]
  },
  {
   "cell_type": "markdown",
   "metadata": {},
   "source": [
    "**Pts /10**"
   ]
  },
  {
   "cell_type": "markdown",
   "metadata": {},
   "source": [
    "**c)**\n",
    "Make a copy of your program and modify the copy to do the calculation using an adaptive step size.  Set a target accuracy of\n",
    "$\\delta=1$ kilometer per year in the position of the comet and again plot the trajectory.  "
   ]
  },
  {
   "cell_type": "code",
   "execution_count": 7,
   "metadata": {},
   "outputs": [],
   "source": [
    "#Type your code here"
   ]
  },
  {
   "cell_type": "markdown",
   "metadata": {},
   "source": [
    "**What do you see?  How do the speed, accuracy, and step size of the calculation compare with those in part (b)?**"
   ]
  },
  {
   "cell_type": "markdown",
   "metadata": {},
   "source": [
    "**Pts /10**"
   ]
  },
  {
   "cell_type": "markdown",
   "metadata": {},
   "source": [
    "**Extra credit**\n",
    "Modify your program to place dots on your graph showing the position of the comet at each Runge--Kutta step around a single orbit.  You should see the steps getting closer together when the comet is close to the Sun and further apart when it is far out in the solar system."
   ]
  },
  {
   "cell_type": "code",
   "execution_count": 8,
   "metadata": {},
   "outputs": [],
   "source": [
    "#Type your code here"
   ]
  },
  {
   "cell_type": "markdown",
   "metadata": {},
   "source": [
    "**XC Pts /5**"
   ]
  },
  {
   "cell_type": "markdown",
   "metadata": {},
   "source": [
    "**Total Exercise Pts /25**"
   ]
  },
  {
   "attachments": {
    "ch9_exercise9.3.PNG": {
     "image/png": "[encoded data removed]"
    }
   },
   "cell_type": "markdown",
   "metadata": {},
   "source": [
    "## Exercise 9.3 Electronic capacitor - Gauss-Seidel with overrelaxation\n",
    "\n",
    "Consider the following simple model of an electronic capacitor,\n",
    "consisting of two flat metal plates enclosed in a square metal box:\n",
    "\n",
    "![ch9_exercise9.3.PNG](attachment:ch9_exercise9.3.PNG)\n",
    "\n",
    "For simplicity let us model the system in two dimensions.  Using **Gauss-Seidel with overrelaxation**, write a program to calculate the electrostatic\n",
    "potential in the box on a grid of $100\\times100$ points, where the walls of\n",
    "the box are at voltage zero and the two plates (which are of negligible\n",
    "thickness) are at voltages $\\pm1\\,$V as shown.  Have your program calculate\n",
    "the value of the potential at each grid point to a precision of\n",
    "$10^{-6}\\,$volts and then make a density plot of the result. Include a colorbar that shows the scale. \n",
    "\n",
    "Hint: Notice that the capacitor plates are at fixed *voltage*, not\n",
    "fixed charge, so this problem differs from examples we did in class.  In effect, the capacitor plates are part of the boundary\n",
    "condition in this case: they behave the same way as the walls of the box,\n",
    "with potentials that are fixed at a certain value and cannot change."
   ]
  },
  {
   "cell_type": "code",
   "execution_count": 10,
   "metadata": {},
   "outputs": [],
   "source": [
    "#Type your code here"
   ]
  },
  {
   "cell_type": "markdown",
   "metadata": {},
   "source": [
    "**Total Exercise Pts /10**"
   ]
  },
  {
   "cell_type": "markdown",
   "metadata": {},
   "source": [
    "## Exercise 9.4 Thermal diffusion in the Earth's crust : FTCS method\n",
    "\n",
    "A classic example of a diffusion problem with a time-varying boundary condition is the diffusion of heat into the crust of the Earth, as surface temperature varies with the seasons.  Suppose the mean daily temperature at a particular point on the surface varies as:\n",
    "\n",
    "\\begin{equation*}\n",
    "T_0(t) = A + B\\sin {2\\pi t\\over\\tau},\n",
    "\\end{equation*}\n",
    "\n",
    "where $\\tau=365\\,$days, $A=10^\\circ$C and $B=12^\\circ$C.  At a depth of $20\\,$m below the surface almost all annual temperature variation is ironed out and the temperature is, to a good approximation, a constant $11^\\circ$C\n",
    "(which is higher than the mean surface temperature of $10^\\circ$C---temperature increases with depth, due to heating from the hot core of the planet).  The thermal diffusivity of the Earth's crust varies somewhat from place to place, but for our purposes we will treat it as constant with value $D=0.1\\,\\mathrm{m}^2\\,\\mathrm{day}^{-1}$.\n",
    "\n",
    "Write a program, or modify one of the ones given in this chapter, to calculate the temperature profile of the crust as a function of depth up to $20\\,$m and time up to 10 years using the **FTCS method**.  Start with temperature everywhere equal to $10^\\circ$C, except at the surface and the deepest point, choose values for the number of grid points and the time-step $h$, then run your program\n",
    "for the first nine simulated years, to allow it to settle down into whatever pattern it reaches.  Then for the tenth and final year plot four temperature profiles taken at 3-month intervals on a single graph to illustrate how the temperature changes as a function of depth and time."
   ]
  },
  {
   "cell_type": "code",
   "execution_count": null,
   "metadata": {},
   "outputs": [],
   "source": [
    "## Type your code here"
   ]
  },
  {
   "cell_type": "markdown",
   "metadata": {},
   "source": [
    "**Total Exercise Pts /10**"
   ]
  },
  {
   "cell_type": "markdown",
   "metadata": {},
   "source": [
    "## Total Pts /60"
   ]
  },
  {
   "cell_type": "code",
   "execution_count": null,
   "metadata": {},
   "outputs": [],
   "source": []
  }
 ],
 "metadata": {
  "kernelspec": {
   "display_name": "Python 3",
   "language": "python",
   "name": "python3"
  },
  "language_info": {
   "codemirror_mode": {
    "name": "ipython",
    "version": 3
   },
   "file_extension": ".py",
   "mimetype": "text/x-python",
   "name": "python",
   "nbconvert_exporter": "python",
   "pygments_lexer": "ipython3",
   "version": "3.7.3"
  }
 },
 "nbformat": 4,
 "nbformat_minor": 4
}
