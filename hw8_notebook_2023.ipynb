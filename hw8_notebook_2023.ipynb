{
 "cells": [
  {
   "cell_type": "markdown",
   "metadata": {},
   "source": [
    "## Homework 8\n",
    "\n",
    "Make a copy of this and save as \"hw7_name.ipynb\"\n",
    "\n",
    "Name:\n",
    "\n",
    "Comments for instructor:\n"
   ]
  },
  {
   "cell_type": "markdown",
   "metadata": {},
   "source": [
    "### Exercise 7.3 Fourier transforms of musical instruments\n",
    "\n",
    "You will find the files *piano.txt* and *trumpet.txt* on Canvas (also on the online resources for our textbook), which contain data representing the waveform of a single note, played on, respectively, a piano and a trumpet.\n",
    "\n",
    "**a)** Write a program that loads a waveform from one of these files, plots it, then calculates its discrete Fourier transform and plots the magnitudes of the first 10,000 coefficients.  Apply your program to the piano and trumpet waveforms. Plot the waveform and transform separately for each instrument and title. Note that you will have to use a fast Fourier transform for the calculation because there are too many samples in the files to do the transforms the slow way in any reasonable amount of time. A suitable function is numpy.fft.rfft().\n",
    "\n",
    "https://numpy.org/doc/stable/reference/generated/numpy.fft.rfft.html\n",
    "\n",
    "Apply your program to the piano and trumpet waveforms and "
   ]
  },
  {
   "cell_type": "code",
   "execution_count": 1,
   "metadata": {},
   "outputs": [],
   "source": [
    "#Type your code here"
   ]
  },
  {
   "cell_type": "markdown",
   "metadata": {},
   "source": [
    "**Pts /10**"
   ]
  },
  {
   "cell_type": "markdown",
   "metadata": {},
   "source": [
    "**b)** Discuss briefly what one can conclude about the sound of the piano and trumpet from the plots of Fourier coefficients. "
   ]
  },
  {
   "cell_type": "markdown",
   "metadata": {},
   "source": [
    "Type your response here"
   ]
  },
  {
   "cell_type": "markdown",
   "metadata": {},
   "source": [
    "**Pts /5**"
   ]
  },
  {
   "cell_type": "markdown",
   "metadata": {},
   "source": [
    "**c)** \n",
    "Both waveforms were recorded at the industry-standard rate of 44,100 samples per second and both instruments were playing the same musical note when the recordings were made.  From your Fourier transform results calculate what note they were playing.  (Hint: The musical note middle C has a frequency of 261 Hz.)"
   ]
  },
  {
   "cell_type": "markdown",
   "metadata": {},
   "source": [
    "Type your response here"
   ]
  },
  {
   "cell_type": "markdown",
   "metadata": {},
   "source": [
    "**Pts /5**"
   ]
  },
  {
   "cell_type": "markdown",
   "metadata": {},
   "source": [
    "**Total Exercise Pts /20**"
   ]
  },
  {
   "cell_type": "markdown",
   "metadata": {},
   "source": [
    "## Exercise 7.6: Comparison of the DFT and DCT \n",
    "\n",
    "There is a file called *dow2.txt*, which contains data on the Dow Jones Industrial Average from 2004 until 2008. Over this period the value changed considerably from a starting level around 9000 to a final level around 14000.\n",
    " \n",
    "**a)**\n",
    "Write a program in which you read the data in the file *dow2.txt* and plot it on a graph.  Then smooth the data by calculating its Fourier transform, setting all but the first 2\\% of the coefficients to zero, and inverting the transform again, plotting the result on the same graph as the original data.  You should see that the data are smoothed, but now there will be an additional artifact.  At the beginning and end of the plot you should see large deviations away from the true smoothed function.  These occur because the function is required to be periodic---its last value must be the same as its first---so it needs to deviate substantially from the correct value to make the two ends of the function meet.  In some situations (including this one) this behavior is unsatisfactory.  If we want to use the Fourier transform for smoothing, we would certainly prefer that it not introduce artifacts of this kind.\n",
    "\n",
    "Make sure your program outputs the original and smoothed data on the same plot, with a legend and title indicating its the DFT. "
   ]
  },
  {
   "cell_type": "code",
   "execution_count": 2,
   "metadata": {},
   "outputs": [],
   "source": [
    "#Type your code here"
   ]
  },
  {
   "cell_type": "markdown",
   "metadata": {},
   "source": [
    "**Pts /10**"
   ]
  },
  {
   "cell_type": "markdown",
   "metadata": {},
   "source": [
    "**b)** \n",
    "Modify your program to repeat the same analysis using discrete cosine transforms.  You can use the functions from _dcst.py_ to perform the transforms if you wish.  Again discard all but the first 2\\% of the coefficients, invert the transform, and plot the result.  You should see a significant improvement, with less distortion of the function at the ends of the interval.  This occurs because, as discussed at the end of Section 7.3, the cosine transform does not force the value of the function to be the same at both ends.\n",
    "\n",
    "Make sure your program outputs the original and smoothed data on the same plot, with legend and title indicating its the DCT."
   ]
  },
  {
   "cell_type": "code",
   "execution_count": 3,
   "metadata": {},
   "outputs": [],
   "source": [
    "#Type your code here"
   ]
  },
  {
   "cell_type": "markdown",
   "metadata": {},
   "source": [
    "**Pts /10**"
   ]
  },
  {
   "cell_type": "markdown",
   "metadata": {},
   "source": [
    "It is because of the artifacts introduced by the strict periodicity of the DFT that the cosine transform\n",
    "is favored for many technological applications, such as audio compression. The artifacts\n",
    "can degrade the sound quality of compressed audio and the cosine transform generally gives\n",
    "better results.\n",
    "The cosine transform is not wholly free of artifacts itself however. It’s true it does not\n",
    "force the function to be periodic, but it does force the gradient to be zero at the ends of the\n",
    "interval (which the ordinary Fourier transform does not). You may be able to see this in your\n",
    "calculations for part (b) above. Look closely at the smoothed function and you should see that its slope is flat at the beginning and end of the interval. The distortion of the function\n",
    "introduced is less than the distortion in part (a), but it’s there all the same. To reduce this effect,\n",
    "audio compression schemes often use overlapped cosine transforms, in which transforms are\n",
    "performed on overlapping blocks of samples, so that the portions at the ends of blocks, where\n",
    "the worst artifacts lie, need not be used."
   ]
  },
  {
   "cell_type": "markdown",
   "metadata": {},
   "source": [
    "**Total Exercise Pts /20**"
   ]
  },
  {
   "attachments": {
    "image.png": {
     "image/png": "[encoded data removed]"
    }
   },
   "cell_type": "markdown",
   "metadata": {},
   "source": [
    "### Exercise 8.1 A low-pass filter \n",
    "\n",
    "Here is a simple electronic circuit with one resistor and one capacitor:\n",
    "\n",
    "![image.png](attachment:image.png)\n",
    "\n",
    "The circuit acts as a low-pass filter: you send a signal in on the left and it comes out filtered on the right.\n",
    "\n",
    "Using Ohm's law and the capacitor law and assuming that the output load has very high impedance, so that a negligible amount of current flows through it, we can write down the equations governing this circuit as follows.  Let $I$ be the current that flows through $R$ and into the capacitor, and let $Q$ be the charge on the capacitor.  Then:\n",
    "\n",
    "\\begin{equation*}\n",
    "IR = V_\\textrm{in} - V_\\textrm{out}\\,,\\qquad\n",
    " Q = CV_\\textrm{out}\\,,\\qquad\n",
    " I = {d Q\\over d t}.\n",
    "\\end{equation*}\n",
    "\n",
    "Substituting the second equation into the third, then substituting the result into the first equation, we find that $V_\\textrm{in} - V_\\textrm{out} = RC\\>({d V_\\textrm{out}/ d t})$, or equivalently\n",
    "\n",
    "\\begin{equation*}\n",
    "{d V_\\textrm{out}\\over d t} = {1\\over RC}\n",
    "                               \\bigl( V_\\textrm{in} - V_\\textrm{out} \\bigr).\n",
    "\\end{equation*}\n",
    "\n",
    "**a)**\n",
    "Write a program to solve this equation for $V_\\textrm{out}(t)$ using the fourth-order Runge--Kutta method when the input signal is a square-wave with frequency 1 and amplitude 1:\n",
    "\n",
    "\\begin{equation*}\n",
    "V_\\textrm{in}(t) = \\begin{cases}\n",
    "                     1  & \\qquad\\mbox{if $\\lfloor 2t \\rfloor$ is even,} \\\\\n",
    "                     -1 & \\qquad\\mbox{if $\\lfloor 2t \\rfloor$ is odd,}\n",
    "                   \\end{cases}\n",
    "\\end{equation*}\n",
    "\n",
    "where $\\lfloor x\\rfloor$ means $x$ rounded down to the next lowest integer. (can use the math or numpy floor() function).  Use your program to make plots of the output of the filter circuit from $t=0$ to $t=10$ when $RC=0.01$, $0.1$, and 1, with initial condition $V_\\textrm{out}(0)=0$.  Label each RC series clearly. You will have to make a decision about what value of $h$ to use in your calculation.  Small values give more accurate results, but the program will take longer to run.  Try a variety of different values and choose one for your final calculations that seems sensible to you."
   ]
  },
  {
   "cell_type": "code",
   "execution_count": 7,
   "metadata": {},
   "outputs": [],
   "source": [
    "#Type your code here"
   ]
  },
  {
   "cell_type": "markdown",
   "metadata": {},
   "source": [
    "**Pts /10**"
   ]
  },
  {
   "cell_type": "markdown",
   "metadata": {},
   "source": [
    "**b)** \n",
    "Based on the graphs produced by your program, describe what you see and explain what the circuit is doing."
   ]
  },
  {
   "cell_type": "markdown",
   "metadata": {},
   "source": [
    "Type your response here"
   ]
  },
  {
   "cell_type": "markdown",
   "metadata": {},
   "source": [
    "**Pts /5**"
   ]
  },
  {
   "cell_type": "markdown",
   "metadata": {},
   "source": [
    "**Total Exercise Pts /15**"
   ]
  },
  {
   "cell_type": "markdown",
   "metadata": {},
   "source": [
    "\n",
    "## Exercise 8.3: The Lorenz equations\n",
    "\n",
    "One of the most celebrated sets of differential equations in\n",
    "physics is the Lorenz equations:\n",
    "$$\n",
    "{d x\\over d t} = \\sigma(y-x),\\qquad\n",
    "{d y\\over d t} = rx - y - xz,\\qquad\n",
    "{d z\\over d t} = xy - bz,\n",
    "$$\n",
    "\n",
    "where $\\sigma$, $r$, and $b$ are constants.  (The names $\\sigma$, $r$,\n",
    "and $b$ are odd, but traditional---they are always used in these equations\n",
    "for historical reasons.)\n",
    "\n",
    "These equations were first studied by Edward Lorenz in 1963, who\n",
    "derived them from a simplified model of weather patterns.  The\n",
    "reason for their fame is that they were one of the first incontrovertible\n",
    "examples of *deterministic chaos*, the occurrence of apparently\n",
    "random motion even though there is no randomness built into the equations.\n",
    "\n",
    "\n",
    "**Part a)** Write a program to solve the Lorenz equations for the case\n",
    "  $\\sigma=10$, $r=28$, and $b=\\frac83$ in the range from $t=0$ to $t=50$\n",
    "  with initial conditions $(x,y,z)=(0,1,0)$.  Have your program make a plot\n",
    "  of $y$ as a function of time.  Note the unpredictable nature of the\n",
    "  motion.  (Hint: If you base your program on previous ones, be careful.\n",
    "  This problem has parameters $r$ and $b$ with the same names as variables\n",
    "  in previous programs---make sure to give your variables new names, or use\n",
    "  different names for the parameters, to avoid introducing errors into your\n",
    "  code.). Choose a large number of time steps, otherwise the solution blows up.\n"
   ]
  },
  {
   "cell_type": "code",
   "execution_count": 9,
   "metadata": {},
   "outputs": [],
   "source": [
    "# Type code here"
   ]
  },
  {
   "cell_type": "markdown",
   "metadata": {},
   "source": [
    "**Pts /10**"
   ]
  },
  {
   "cell_type": "markdown",
   "metadata": {},
   "source": [
    "**Part b)** Modify your program to produce a plot of $z$ against $x$.  You should\n",
    "  see a picture of the famous ``strange attractor'' of the Lorenz\n",
    "  equations, a lop-sided butterfly-shaped plot that never repeats itself."
   ]
  },
  {
   "cell_type": "code",
   "execution_count": 10,
   "metadata": {},
   "outputs": [],
   "source": [
    "# Type code here"
   ]
  },
  {
   "cell_type": "markdown",
   "metadata": {},
   "source": [
    "**Pts /5**"
   ]
  },
  {
   "cell_type": "markdown",
   "metadata": {},
   "source": [
    "**Total Exercise Pts /15**"
   ]
  },
  {
   "cell_type": "markdown",
   "metadata": {},
   "source": [
    "### Total HW Pts /70"
   ]
  }
 ],
 "metadata": {
  "kernelspec": {
   "display_name": "Python 3",
   "language": "python",
   "name": "python3"
  },
  "language_info": {
   "codemirror_mode": {
    "name": "ipython",
    "version": 3
   },
   "file_extension": ".py",
   "mimetype": "text/x-python",
   "name": "python",
   "nbconvert_exporter": "python",
   "pygments_lexer": "ipython3",
   "version": "3.7.3"
  }
 },
 "nbformat": 4,
 "nbformat_minor": 4
}
