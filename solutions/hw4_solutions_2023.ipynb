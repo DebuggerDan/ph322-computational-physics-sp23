{
 "cells": [
  {
   "cell_type": "markdown",
   "metadata": {},
   "source": [
    "# Homework 4\n",
    "\n",
    "Name:\n",
    "\n",
    "Comments for grader:\n"
   ]
  },
  {
   "cell_type": "markdown",
   "metadata": {},
   "source": [
    "## Exercise 5.7\n",
    "\n",
    "Consider the integral\n",
    "\n",
    "\\begin{equation*}\n",
    "I = \\int_0^1 \\sin^2 \\sqrt{100 x} \\>d x\n",
    "\\end{equation*}\n",
    "\n",
    "**a)** Write a program that uses the adaptive trapezoidal rule method of\n",
    "  Section 5.3 and Eq. (5.34) to calculate the value of this integral to an\n",
    "  approximate accuracy of $\\epsilon=10^{-6}$ (i.e., correct to six digits\n",
    "  after the decimal point).  Start with one single integration slice and\n",
    "  work up from there to two, four, eight, and so forth.  Have your program\n",
    "  print out the number of slices, its estimate of the integral, and its\n",
    "  estimate of the error on the integral, for each value of the number of\n",
    "  slices $N$, until the target accuracy is reached.  (Hint: You should find\n",
    "  the result is around $I=0.45$.)"
   ]
  },
  {
   "cell_type": "code",
   "execution_count": 30,
   "metadata": {},
   "outputs": [
    {
     "name": "stdout",
     "output_type": "stream",
     "text": [
      "Target error is 1e-06.\n",
      " Iteration  Slices      I         Error    \n",
      "     1        1      0.147979       NA     \n",
      "     2        2      0.325232    5.91e-02  \n",
      "     3        4      0.512283    6.24e-02  \n",
      "     4        8      0.402997   -3.64e-02  \n",
      "     5        16     0.430103    9.04e-03  \n",
      "     6        32     0.448415    6.10e-03  \n",
      "     7        64     0.453913    1.83e-03  \n",
      "     8       128     0.455349    4.79e-04  \n",
      "     9       256     0.455711    1.21e-04  \n",
      "    10       512     0.455802    3.03e-05  \n",
      "    11       1024    0.455825    7.58e-06  \n",
      "    12       2048    0.455831    1.90e-06  \n",
      "    13       4096    0.455832    4.74e-07  \n"
     ]
    }
   ],
   "source": [
    "\"\"\"\n",
    "Program: ex5.7_adapative_trapezoidal_rule\n",
    "Purpose: Estimate an integral using the adaptive trapezoidal method\n",
    "Does it work?: Yes\n",
    "Other information: \n",
    "\n",
    "Part a) Use adapative trapezoidal method of Section 5.3 and eqn 5.34 to calculate\n",
    "integral to specified accuracy. \n",
    "    \n",
    "\"\"\"\n",
    "\n",
    "import math as m\n",
    "#import numpy as np\n",
    "\n",
    "# define integrand function\n",
    "def f(x):\n",
    "    return m.sin(m.sqrt(100*x))**2\n",
    "\n",
    "# define adaptive TR function, arguments: I=previous estimate, (a,b)=integration interval, N=slices for current step\n",
    "def adaptiveTR(I,a,b,N):\n",
    "    h = (b-a)/N\n",
    "    I2 = 0.5*I\n",
    "    # sum over only odd middle slices\n",
    "    for k in range(1,N,2):\n",
    "        I2 += h*f(a+k*h)\n",
    "    return I2\n",
    "\n",
    "# main body\n",
    "\n",
    "# desired accuracy\n",
    "epsilon = 1e-6 \n",
    "\n",
    "# Initialize approximation error to something high so it enters the while-loop\n",
    "error = 9999.\n",
    "\n",
    "# limits of integration\n",
    "a=0.0\n",
    "b=1.0\n",
    "\n",
    "# Initialize the number of slices\n",
    "N = 1\n",
    "\n",
    "# Slice width\n",
    "h = (b-a)/N\n",
    "\n",
    "# i keeps track of the number of iterations (not necessary)\n",
    "i=1\n",
    "\n",
    "# Calculate first estimate of I using the standard trapezoidal rule, eq 5.3\n",
    "# Note, for N=1, there is no summation term\n",
    "I = 0.5*h*(f(a) + f(b))\n",
    "\n",
    "# print header \n",
    "print(f\"Target error is {epsilon}.\")\n",
    "print(f'{\"Iteration\":^11}{\"Slices\":^8}{\"I\":^12}{\"Error\":^12}')\n",
    "print(f'{i:^11}{N:^8}{I:^12.6f}{\"NA\":^12}')\n",
    "\n",
    "# keeps track of the previous estimate of I. Initialize to the first estimate\n",
    "I_previous = I\n",
    "\n",
    "# Perform adapative integration until target accuracy reached\n",
    "while abs(error) > epsilon:\n",
    "    # increment iteration counter\n",
    "    i += 1  \n",
    "    # double the number of slices\n",
    "    N = 2*N\n",
    "    I = adaptiveTR(I_previous,a,b,N) # recalculate slice width\n",
    "    # calculate error on current estimate using eqn. 5.28\n",
    "    error = (1/3)*(I-I_previous)\n",
    "    # store current estimate of I for next iteration\n",
    "    I_previous = I\n",
    "    print(f\"{i:^11}{N:^8}{I:^12.6f}{error:^12.2e}\")"
   ]
  },
  {
   "cell_type": "markdown",
   "metadata": {},
   "source": [
    "### Total Exercise Pts /10"
   ]
  },
  {
   "cell_type": "markdown",
   "metadata": {},
   "source": [
    "## Exercise 5.9\n",
    "\n",
    "Debye's theory of solids gives the heat capacity of a solid at\n",
    "temperature $T$ to be\n",
    "\n",
    "\\begin{equation*}\n",
    "C_V(T) = 9V\\rho k_B \\biggl( {T\\over\\theta_D} \\biggr)^3 \\int_0^{\\theta_D/T}\n",
    "      {x^4 e^x\\over(e^x-1)^2}\\>d x,\n",
    "\\end{equation*}\n",
    "\n",
    "where $V$ is the volume of the solid, $\\rho$ is the number density of\n",
    "atoms, $k_B$ is Boltzmann's constant, and $\\theta_D$ is the so-called\n",
    "_Debye temperature_, a property of solids that depends on their\n",
    "density and speed of sound.\n",
    "\n",
    "**a)** Write a Python function _cv(T)_ that calculates $C_V$ for a\n",
    "  given value of the temperature, for a sample consisting of 1000 cubic\n",
    "  centimeters of solid aluminum, which has a number density of\n",
    "  $\\rho=6.022\\times10^{28}\\,\\mathrm{m}^{-3}$ and a Debye temperature of\n",
    "  $\\theta_D=428\\,$K.  Use Gaussian quadrature to evaluate the integral,\n",
    "  with $N=50$ sample points. Test your function using $T=300$K"
   ]
  },
  {
   "cell_type": "code",
   "execution_count": 40,
   "metadata": {},
   "outputs": [
    {
     "name": "stdout",
     "output_type": "stream",
     "text": [
      "Cv at 300.0K = 2257.80 J/K.\n"
     ]
    }
   ],
   "source": [
    "\"\"\"\n",
    "Program: ex5.9_heat_capacity_of_a_solid\n",
    "Purpose: Use Gaussian quadrature to calculate the heat capacity of Al\n",
    "Does it work?: Yes\n",
    "Other information: \n",
    "\"\"\"\n",
    "\n",
    "from gaussxw import gaussxwab\n",
    "import numpy as np\n",
    "import scipy.constants as constants\n",
    "\n",
    "# define the integrand function\n",
    "# note: need to use numpy.exp since I am passing x as an array\n",
    "def f(x):\n",
    "    num = (x**4)*(np.exp(x))\n",
    "    denom = (np.exp(x)-1.0)**2\n",
    "    return num/denom\n",
    "\n",
    "# estimate integral using Gaussian quadrature, arguments: N=sampling point, (a,b)=integration interval\n",
    "def gaussQ(N,a,b):\n",
    "    # get the locations of sample points and weights over (a,b) \n",
    "    xp,wp = gaussxwab(N,a,b)\n",
    "    # Perform the integration by summing weights*f(xp)\n",
    "    I = np.sum(wp*f(xp))\n",
    "    return I\n",
    "    \n",
    "# define a function to calculate Cv of Al for a given temperature T\n",
    "def cv(T):\n",
    "    V = 1000.0e-6 # volume of Al, m3\n",
    "    rho = 6.022e28 # number density of Al, m-3\n",
    "    theta_D = 428.0 # DeBye temperature, K\n",
    "    k_B = constants.Boltzmann\n",
    "    prefactor = (9.0*V*rho*k_B)*(T/theta_D)**3\n",
    "    a = 0\n",
    "    b = theta_D/T\n",
    "    N = 50\n",
    "    I = gaussQ(N,a,b)\n",
    "    return prefactor*I\n",
    "\n",
    "# main body\n",
    "\n",
    "# test function for T=300K\n",
    "T = 300.\n",
    "print(f\"Cv at {T}K = {cv(T):.2f} J/K.\")"
   ]
  },
  {
   "cell_type": "markdown",
   "metadata": {},
   "source": [
    "$C_V(T=300K) = $ 2257.80 J/K "
   ]
  },
  {
   "cell_type": "markdown",
   "metadata": {},
   "source": [
    "**Pts /10**"
   ]
  },
  {
   "cell_type": "markdown",
   "metadata": {},
   "source": [
    "**b)** Use your function to make a graph of the heat capacity as a function\n",
    "  of temperature from $T=5\\,$K to $T=500\\,$K. Label axes. "
   ]
  },
  {
   "cell_type": "code",
   "execution_count": 46,
   "metadata": {},
   "outputs": [
    {
     "data": {
      "image/png": "[encoded data removed]",
      "text/plain": [
       "<Figure size 432x288 with 1 Axes>"
      ]
     },
     "metadata": {
      "needs_background": "light"
     },
     "output_type": "display_data"
    }
   ],
   "source": [
    "# Part b) Plot Cv over the range T=5-500K\n",
    "\n",
    "import matplotlib.pyplot as plt\n",
    "\n",
    "# number of temperatures to sample\n",
    "npoints = 100\n",
    "\n",
    "# sample temperature range from 5,500K at npoints and store in array\n",
    "T_range = np.linspace(5,500, npoints)\n",
    "\n",
    "# create 1D array to hold Cv(T) at every T\n",
    "C_V = np.empty([npoints], float)\n",
    "\n",
    "# calculate the heat capacity at every temperaure using the map function\n",
    "# need to use map function because gaussxwab works only on scalars \n",
    "C_V = list(map(cv, T_range)) \n",
    "\n",
    "#plot Cv vs T\n",
    "plt.plot (T_range, C_V)\n",
    "plt.xlabel(\"Temperature, K\")\n",
    "plt.ylabel(\"Heat capacity, J/K\")\n",
    "plt.title(r\"Heat capacity of 1000 cm$^3$ Ag\")\n",
    "plt.show()"
   ]
  },
  {
   "cell_type": "markdown",
   "metadata": {},
   "source": [
    "**Pts /5**"
   ]
  },
  {
   "cell_type": "markdown",
   "metadata": {},
   "source": [
    "### Total Exercise Pts /15"
   ]
  },
  {
   "cell_type": "markdown",
   "metadata": {},
   "source": [
    "## Exercise 5.12\n",
    "\n",
    "The Planck theory of thermal radiation tells us that in the\n",
    "(angular) frequency interval $\\omega$ to $\\omega+d\\omega$, a black body\n",
    "of unit area radiates electromagnetically an amount of thermal energy per\n",
    "second equal to $I(\\omega)\\>d\\omega$, where\n",
    "\n",
    "\\begin{equation*}\n",
    "  I(\\omega) = {\\hbar\\over4\\pi^2c^2}\\,{\\omega^3\\over(e^{\\hbar\\omega/k_BT}-1)}.\n",
    "\\end{equation*}\n",
    "\n",
    "Here $\\hbar$ is Planck's constant over $2\\pi$, $c$ is the speed of light,\n",
    "and $k_B$ is Boltzmann's constant.\n",
    "\n",
    "**a)** Show that the total energy per unit area radiated by a black body is\n",
    "\n",
    "\\begin{equation*}\n",
    "W = {k_B^4 T^4\\over4\\pi^2c^2\\hbar^3} \\int_0^\\infty {x^3\\over e^x-1}\\>d x.\n",
    "\\end{equation*}"
   ]
  },
  {
   "cell_type": "markdown",
   "metadata": {},
   "source": [
    "**SOLUTION:**"
   ]
  },
  {
   "cell_type": "markdown",
   "metadata": {},
   "source": [
    "$$\n",
    "W = \\int_0^\\infty I(\\omega)d\\omega\n",
    "$$\n",
    "\n",
    "$$\n",
    "= {\\hbar\\over4\\pi^2c^2} \\int_0^\\infty \\left({\\omega^3\\over(e^{\\hbar\\omega/k_BT}-1)}\\right)d\\omega  \n",
    "$$"
   ]
  },
  {
   "cell_type": "markdown",
   "metadata": {},
   "source": [
    "Use a change of variables:\n",
    "\n",
    "$\n",
    "x = \\frac{\\hbar\\omega}{k_BT} \\rightarrow \\omega=\\frac{k_BT}{\\hbar}x\n",
    "$\n",
    "\n",
    "$\n",
    "d\\omega = \\frac{k_BT}{\\hbar}dx  \n",
    "$\n",
    "\n",
    "Determine new limits of integration:\n",
    "\n",
    "$\n",
    "\\omega=0 \\rightarrow x=0      \n",
    "$\n",
    "\n",
    "$\n",
    "\\omega=\\infty \\rightarrow x = \\infty\n",
    "$\n",
    "\n",
    "\n",
    "\n",
    "Substitute into $W$:\n",
    "\n",
    "$$\n",
    "W = {\\hbar\\over4\\pi^2c^2} \\int_0^\\infty \\left( \\frac{(\\frac{k_BTx}{\\hbar})^3}{e^x-1}\\right)\\frac{k_BT}{\\hbar}dx\n",
    "$$\n",
    "\n",
    "$$\n",
    " \\boxed{ = {(k_BT)^4\\over4\\pi^2\\hbar^3c^2} \\int_0^\\infty \\left( \\frac{x^3}{e^x-1}\\right)d\\omega}\n",
    "$$"
   ]
  },
  {
   "cell_type": "markdown",
   "metadata": {},
   "source": [
    "**Pts /5**"
   ]
  },
  {
   "cell_type": "markdown",
   "metadata": {},
   "source": [
    "**b)** Use of a change of variable to transform the infinite integral into a finite one. Show work here and the new finite integral."
   ]
  },
  {
   "cell_type": "markdown",
   "metadata": {},
   "source": [
    "$\n",
    "z = \\frac{x}{1+x} \\rightarrow x = \\frac{z}{1-z}\n",
    "$\n",
    "\n",
    "$\n",
    "dx = \\frac{dz}{(1-z)^2}\n",
    "$\n",
    "\n",
    "$\n",
    "x=0 \\rightarrow z=0\n",
    "$\n",
    "\n",
    "$\n",
    "x=\\infty \\rightarrow z=1\n",
    "$\n",
    "\n",
    "So the new integral is:\n",
    "\n",
    "$$\n",
    "I = \\int_0^1 \\frac{1}{(1-z)^2} f(\\frac{z}{1-z})dz \n",
    "$$\n",
    "\n",
    "$$\n",
    "\\boxed{ \\rightarrow  \\int_0^1  \\frac{z^3}{(1-z)^5(e^{\\frac{z}{1-z}}-1)}dz}\n",
    "$$"
   ]
  },
  {
   "cell_type": "markdown",
   "metadata": {},
   "source": [
    "**Pts /5**"
   ]
  },
  {
   "cell_type": "markdown",
   "metadata": {},
   "source": [
    "**c)** Write a program to evaluate the integral (not $W$) in this expression. Explain\n",
    "  what method you used, and how accurate you think your answer is."
   ]
  },
  {
   "cell_type": "markdown",
   "metadata": {},
   "source": [
    "Let's first plot the integrand over the integration range to see if it is well-behaved (not necessary for this problem but good practice):"
   ]
  },
  {
   "cell_type": "code",
   "execution_count": 50,
   "metadata": {},
   "outputs": [
    {
     "name": "stderr",
     "output_type": "stream",
     "text": [
      "C:\\Users\\cbuten\\AppData\\Local\\Continuum\\anaconda3\\lib\\site-packages\\ipykernel_launcher.py:9: RuntimeWarning: overflow encountered in expm1\n",
      "  if __name__ == '__main__':\n"
     ]
    },
    {
     "data": {
      "text/plain": [
       "[<matplotlib.lines.Line2D at 0x1a680855128>]"
      ]
     },
     "execution_count": 50,
     "metadata": {},
     "output_type": "execute_result"
    },
    {
     "data": {
      "image/png": "[encoded data removed]",
      "text/plain": [
       "<Figure size 432x288 with 1 Axes>"
      ]
     },
     "metadata": {
      "needs_background": "light"
     },
     "output_type": "display_data"
    }
   ],
   "source": [
    "#plot the integrand \n",
    "# Note, I get an overflow as z-->1 because x blows up making exp(x) > max float value. \n",
    "\n",
    "import numpy as np\n",
    "import matplotlib.pyplot as plt\n",
    "\n",
    "def f(z):\n",
    "    x = z/(1-z)\n",
    "    return z**3/((1-z)**5*(np.expm1(x)))\n",
    "    \n",
    "# avoids divide-by-zero in f(z) when z=1\n",
    "delta = 1e-15\n",
    "z = np.linspace(delta,1-delta,100)\n",
    "y = f(z)\n",
    "plt.plot(z,y)"
   ]
  },
  {
   "cell_type": "code",
   "execution_count": 56,
   "metadata": {},
   "outputs": [
    {
     "name": "stdout",
     "output_type": "stream",
     "text": [
      "Using 100 sampling points, the integral (not W) is 6.493939402266829 with approximation error 1.78e-15.\n"
     ]
    },
    {
     "name": "stderr",
     "output_type": "stream",
     "text": [
      "C:\\Users\\cbuten\\AppData\\Local\\Continuum\\anaconda3\\lib\\site-packages\\ipykernel_launcher.py:22: RuntimeWarning: overflow encountered in expm1\n"
     ]
    }
   ],
   "source": [
    "\"\"\"\n",
    "Program: ex5.12_stefan_boltzmann_constant\n",
    "Purpose: Caculate the Stefan-Boltzmann constant using any integration method\n",
    "Does it work?: Yes\n",
    "Other information: \n",
    "\n",
    "    * part b) calculate the integral \n",
    "    \n",
    "    * I plotted the function first to see if it was a smooth function. It is\n",
    "    so we can use Gaussian quadrature. \n",
    "    \n",
    "    * I get an OverflowError for N>~30, because exp(x) blows up \n",
    "    * when z (or the sampling point) ~ 1 \n",
    "    \n",
    "\"\"\"\n",
    "from gaussxw import gaussxwab\n",
    "import numpy as np\n",
    "\n",
    "# define integrand\n",
    "def f(z):\n",
    "    x = z/(1-z)\n",
    "    return z**3/((1-z)**5*(np.expm1(x)))\n",
    "\n",
    "# estimate integral using Gaussian quadrature, arguments: N=sampling point, (a,b)=integration interval\n",
    "def gaussQ(N,a,b):\n",
    "    # get the locations of sample points and weights over (a,b) \n",
    "    xp,wp = gaussxwab(N,a,b)\n",
    "    # Perform the integration by summing weights*f(xp)\n",
    "    I = np.sum(wp*f(xp))\n",
    "    return I\n",
    "\n",
    "# main body\n",
    "\n",
    "# set the number of sampling points\n",
    "N = 100\n",
    "\n",
    "# set integration interval\n",
    "a=0\n",
    "b=1\n",
    "\n",
    "# Perform the integration\n",
    "I = gaussQ(N,a,b)\n",
    "\n",
    "# estimate error by repeating Gaussian quadrature with 2N sampling points\n",
    "I2 = gaussQ(2*N,a,b)\n",
    "error = I2-I\n",
    "\n",
    "print (f\"Using {N} sampling points, the integral (not W) is {I} with approximation error {abs(error):0.2e}.\")"
   ]
  },
  {
   "cell_type": "markdown",
   "metadata": {},
   "source": [
    "**Integration method and reason for choosing it:**  Gaussian quadrature method because the integral is well-behaved and Gaussian quadrature is very accurate for a small number of sampling points. \n",
    "\n",
    "**Estimate of integral:** 6.493939402266829 using N=100 sampling points. \n",
    "\n",
    "**Approximation error:** 1.78e-15 based upon the doubling N method. "
   ]
  },
  {
   "cell_type": "markdown",
   "metadata": {},
   "source": [
    "**Pts /10**"
   ]
  },
  {
   "cell_type": "markdown",
   "metadata": {},
   "source": [
    "**d)** Even before Planck gave his theory of thermal radiation around the\n",
    "  turn of the 20th century, it was known that the total energy $W$ given\n",
    "  off by a black body per unit area per second followed Stefan's\n",
    "  law: $W = \\sigma T^4$, where $\\sigma$ is the Stefan--Boltzmann constant.\n",
    "  Use your value for the integral above to compute a value for the\n",
    "  Stefan--Boltzmann constant (in SI units) to three significant figures.\n",
    "  Check your result against the known value, which you can find in scipy.constants.  You should get good agreement. You can calculate this offline or write code to do so below."
   ]
  },
  {
   "cell_type": "markdown",
   "metadata": {},
   "source": [
    "**SOLUTION:**\n",
    "\n",
    "\n",
    "$\n",
    "W = {(k_BT)^4\\over4\\pi^2\\hbar^3c^2} \\int_0^\\infty \\left( \\frac{x^3}{e^x-1}\\right)d\\omega\n",
    "$\n",
    "\n",
    "which we can write as:\n",
    "\n",
    "$\n",
    "W = {(k_BT)^4\\over4\\pi^2\\hbar^3c^2} I\n",
    "$\n",
    "\n",
    "where $I$ is the estimate of the integral.\n",
    "\n",
    "Given the Stefan-Boltzmann Law:\n",
    "\n",
    "$\n",
    "W=\\sigma T^4\n",
    "$\n",
    "\n",
    "where $\\sigma$ is the Stefan-Boltzmann constant, we see that we can estimate $\\sigma$ as:\n",
    "\n",
    "$\n",
    "\\sigma = {(k_B)^4\\over4\\pi^2\\hbar^3c^2} I\n",
    "$\n",
    "\n",
    "We will compare our estimate of $sigma$ with the true value we get from scipy.constants.\n",
    "\n"
   ]
  },
  {
   "cell_type": "code",
   "execution_count": 63,
   "metadata": {},
   "outputs": [
    {
     "name": "stdout",
     "output_type": "stream",
     "text": [
      "Our estimate of Stefan-Boltzmann constant =  5.67e-08 W/m^2.\n",
      "The true value of Stefan-Boltzmann constant =  5.67e-08 W/m^2.\n",
      "The relative error of our estimate to 3 sig figs is 0.00%.\n"
     ]
    }
   ],
   "source": [
    "from scipy import constants\n",
    "\n",
    "k_B = constants.k # Boltzmann constant\n",
    "c = constants.c # speed of light\n",
    "hbar = constants.hbar # hbar\n",
    "true_sigma = constants.sigma # Stefan-Boltzmann constant\n",
    "\n",
    "# our estimate of sigma\n",
    "est_sigma = k_B**4/(4*(np.pi**2)*(hbar**3)*(c**2))*I\n",
    "\n",
    "# relative error\n",
    "error = abs(100*(est_sigma-true_sigma)/true_sigma)\n",
    "\n",
    "print (f\"Our estimate of Stefan-Boltzmann constant =  {est_sigma:0.2e} W/m^2.\")\n",
    "print (f\"The true value of Stefan-Boltzmann constant =  {true_sigma:0.2e} W/m^2.\")\n",
    "print(f\"The relative error of our estimate to 3 sig figs is {error:0.2f}%.\")"
   ]
  },
  {
   "cell_type": "markdown",
   "metadata": {},
   "source": [
    "Estimate of Stefan-Boltmann constant: 5.67e-08 $W m^{−2}K^{−4}$\n",
    "\n",
    "Relative error from true value: 0.00 %"
   ]
  },
  {
   "cell_type": "markdown",
   "metadata": {},
   "source": [
    "**Pts /5**"
   ]
  },
  {
   "cell_type": "markdown",
   "metadata": {},
   "source": [
    "### Total Exercise Pts /25"
   ]
  },
  {
   "cell_type": "markdown",
   "metadata": {},
   "source": [
    "## Exercise 5.14\n",
    "\n",
    "A uniform square sheet of metal is floating motionless in space (check your textbook for an image representation). The sheet is $10\\,$m on a side and of negligible thickness, and it has a mass of 10 metric tonnes.\n",
    "\n",
    "**a)** Consider the gravitational force due to the plate felt by a point\n",
    "  mass of $1\\,$kg a distance $z$ from the center of the square, in the\n",
    "  direction perpendicular to the sheet, as shown above.  Show that the\n",
    "  component of the force along the $z$-axis is\n",
    "  \n",
    "\\begin{equation*}\n",
    "F_z = G\\sigma z \\iint_{-L/2}^{L/2} {d x\\,d y\\over(x^2+y^2+z^2)^{3/2}}\\,,\n",
    "\\end{equation*}\n",
    "\n",
    "where\n",
    "$G=6.674\\times10^{-11}\\,\\mathrm{m}^3\\,\\mathrm{kg}^{-1}\\,\\mathrm{s}^{-2}$ is\n",
    "Newton's gravitational constant and $\\sigma$ is the mass per unit area of\n",
    "the sheet."
   ]
  },
  {
   "cell_type": "markdown",
   "metadata": {},
   "source": [
    "**Solution:**"
   ]
  },
  {
   "attachments": {
    "exercise_5.14_myimage.PNG": {
     "image/png": "[encoded data removed]"
    }
   },
   "cell_type": "markdown",
   "metadata": {},
   "source": [
    "![exercise_5.14_myimage.PNG](attachment:exercise_5.14_myimage.PNG)"
   ]
  },
  {
   "cell_type": "markdown",
   "metadata": {},
   "source": [
    "From symmetry, we see the x and y force components cancel.\n",
    "\n",
    "The z-component of force from differential mass element $dm_i$ is:\n",
    "\n",
    "$\n",
    "dF_{z,i} = dF_i\\cos{\\theta_i}\n",
    "$\n",
    "\n",
    "$\n",
    "\\cos{\\theta_i} = \\frac{z}{r_i}= \\frac{z}{\\sqrt{z^2+s_i^2}} = \\frac{z}{\\sqrt{x_i^2+y_i^2+z_i^2}}\n",
    "$\n",
    "\n",
    "$\n",
    "dF_i = \\frac{Gm}{r_i^2}dm_i = \\frac{Gm}{r_i^2}\\sigma dx_i dy_i\n",
    "$\n",
    "\n",
    "$$\n",
    "F_z = \\iint_{-L/2}^{L/2}dF\\cos(\\theta) = \\iint_{-L/2}^{L/2} \\frac{\\sigma Gmz}{r^{3/2}} dx dy = \\iint_{-L/2}^{L/2} \\frac{\\sigma Gmz}{(x^2+y^2+z^2)^{3/2}} dx dy\n",
    "$$\n",
    "\n",
    "Since the problem defines m=1kg, can also write this simply as:\n",
    "\n",
    "$$\n",
    "\\boxed{ F_z = \\sigma Gz \\iint_{-L/2}^{L/2} \\frac{dx dy}{(x^2+y^2+z^2)^{3/2}} }\n",
    "$$\n"
   ]
  },
  {
   "cell_type": "markdown",
   "metadata": {},
   "source": [
    "**Pts /5**"
   ]
  },
  {
   "cell_type": "markdown",
   "metadata": {},
   "source": [
    "**b)** Write a program to calculate and plot the force as a function of $z$\n",
    "  from $z=0$ to $z=10\\,$m.  For the double integral use (double) Gaussian\n",
    "  quadrature, as in Eq. (5.82), with 100 sample points along each axis."
   ]
  },
  {
   "cell_type": "code",
   "execution_count": 70,
   "metadata": {},
   "outputs": [
    {
     "data": {
      "image/png": "[encoded data removed]",
      "text/plain": [
       "<Figure size 432x288 with 1 Axes>"
      ]
     },
     "metadata": {
      "needs_background": "light"
     },
     "output_type": "display_data"
    }
   ],
   "source": [
    "\"\"\"\n",
    "Program: ex5.14_gravitational_pull_of_a_uniform_sheet\n",
    "Purpose: Peform a double integral using Gaussian quadrature\n",
    "Does it work?: Yes\n",
    "Other information: \n",
    "\n",
    "\"\"\"\n",
    "from gaussxw import gaussxwab\n",
    "import numpy as np\n",
    "import matplotlib.pyplot as plt\n",
    "from scipy import constants\n",
    "\n",
    "# define the integrand\n",
    "def f(x,y,z):\n",
    "    return z/(z**2+x**2+y**2)**(3/2)\n",
    "\n",
    "# main body\n",
    "\n",
    "# Define constants of the problem\n",
    "G = constants.G \n",
    "m = 1.0 # point mass, kg\n",
    "L = 10.0 # sheet length, m\n",
    "M = 10.0e3 # sheet mass, kg\n",
    "sigma = M/(L**2) # sheet mass density, kg/m^2\n",
    "prefactor = G*m*sigma\n",
    "\n",
    "# Using N=100, we should approximation error down to numerical precision\n",
    "N = 100\n",
    "\n",
    "# The integration domain is the same in both the x and y directions\n",
    "a=-L/2\n",
    "b=L/2\n",
    "\n",
    "# Calculate the sample points and weights mapped to integration domain\n",
    "# Since the integration domain is the same in x,y dimensions we can use these for both dimensions\n",
    "xk,wk = gaussxwab(N,a,b)\n",
    "\n",
    "# sample z (the distance point mass is from sheet of mass) from 0 to 10 m\n",
    "Npoints = 100\n",
    "zpoints = np.linspace(0,10,Npoints)\n",
    "\n",
    "# create array to hold the force at each location z\n",
    "Fz = np.empty(Npoints, float) \n",
    "\n",
    "# Calculate the force on the point mass Fz for each location z\n",
    "# Note I am using the same set of weights and sampling points, but indexing them \n",
    "# separately for x and y\n",
    "for iz in range(Npoints):\n",
    "    z = zpoints[iz]\n",
    "    # Initialize the integral sum\n",
    "    s = 0.0\n",
    "    # perform the double sum using weights and sampling locations\n",
    "    for i in range(N):\n",
    "        for j in range(N):\n",
    "            s += wk[i]*wk[j]*f(xk[i], xk[j], z)\n",
    "    # calculate and store the force\n",
    "    Fz[iz]=prefactor*s\n",
    " \n",
    "plt.plot(zpoints, Fz)\n",
    "plt.xlabel(\"z (distance from sheet of mass), m\")\n",
    "plt.ylabel(\"Fz, N\")\n",
    "plt.title(\"Gravitational force on 1 kg point mass\")\n",
    "plt.show()"
   ]
  },
  {
   "cell_type": "markdown",
   "metadata": {},
   "source": [
    "**Pts /10**"
   ]
  },
  {
   "cell_type": "markdown",
   "metadata": {},
   "source": [
    "**Total Exercise Pts /15**"
   ]
  },
  {
   "cell_type": "markdown",
   "metadata": {},
   "source": [
    "### Total HW Pts /65"
   ]
  },
  {
   "cell_type": "code",
   "execution_count": null,
   "metadata": {},
   "outputs": [],
   "source": []
  }
 ],
 "metadata": {
  "kernelspec": {
   "display_name": "Python 3",
   "language": "python",
   "name": "python3"
  },
  "language_info": {
   "codemirror_mode": {
    "name": "ipython",
    "version": 3
   },
   "file_extension": ".py",
   "mimetype": "text/x-python",
   "name": "python",
   "nbconvert_exporter": "python",
   "pygments_lexer": "ipython3",
   "version": "3.7.3"
  }
 },
 "nbformat": 4,
 "nbformat_minor": 4
}
