{
 "cells": [
  {
   "attachments": {},
   "cell_type": "markdown",
   "metadata": {},
   "source": [
    "We start by recalling the Planck's Law for blackbody radiation, which gives the spectral radiance (energy per unit area, per unit time, per unit wavelength, and per unit solid angle) of a black body at temperature T:\n",
    "\n",
    "\\begin{equation*}\n",
    "B(\\lambda, T) = \\frac{2\\pi hc^2}{\\lambda^5} \\frac{1}{e^{\\frac{hc}{\\lambda k_BT}}-1}.\n",
    "\\end{equation*}\n",
    "\n",
    "To find the total energy per unit area radiated by a black body, we need to integrate the spectral radiance over all wavelengths and the full solid angle. Since a black body radiates isotropically, the total solid angle is simply 4π. Therefore, the total energy per unit area W is\n",
    "\n",
    "\\begin{equation*}\n",
    "W = \\int_0^\\infty B(\\lambda, T) \\, d\\lambda \\int_0^{4\\pi} d\\Omega = 4\\pi \\int_0^\\infty B(\\lambda, T) \\, d\\lambda.\n",
    "\\end{equation*}\n",
    "\n",
    "Now we substitute Planck's Law into the integral and change the integration variable from wavelength $\\lambda$ to dimensionless variable $x = \\frac{hc}{\\lambda k_BT}$:\n",
    "\n",
    "\\begin{equation*}\n",
    "W = \\frac{2\\pi hc^2}{(hc)^5} \\int_0^\\infty \\frac{x^3}{e^x - 1} \\, dx.\n",
    "\\end{equation*}\n",
    "\n",
    "We can simplify the expression by noting that $h^5 c^3 = (hc)^5 \\cdot \\frac{h^2}{c^2}$ and rearranging the constants:\n",
    "\n",
    "\\begin{equation*}\n",
    "W = \\frac{2\\pi k_B^4 T^4}{h^3 c^2} \\int_0^\\infty \\frac{x^3}{e^x - 1} \\, dx.\n",
    "\\end{equation*}\n",
    "\n",
    "Finally, we can factor out the $\\frac{1}{4\\pi^2}$ from the integral to obtain the final expression:\n",
    "\n",
    "\\begin{equation*}\n",
    "W = \\frac{k_B^4 T^4}{4\\pi^2 c^2 \\hbar^3} \\int_0^\\infty \\frac{x^3}{e^x - 1} \\, dx.\n",
    "\\end{equation*}\n",
    "\n",
    "Here, we replaced the Planck constant $h$ with its equivalent $\\hbar = \\frac{h}{2\\pi}$."
   ]
  },
  {
   "attachments": {},
   "cell_type": "markdown",
   "metadata": {},
   "source": [
    "To transform the infinite integral into a finite one, we can make a change of variable using $y = e^{-x}$, so that when $x \\rightarrow \\infty$, $y \\rightarrow 0$, and when $x \\rightarrow 0$, $y \\rightarrow 1$. The new variable $y$ will range from 0 to 1.\n",
    "\n",
    "Now let's find the relation between $dx$ and $dy$. From the definition of $y$, we have:\n",
    "\n",
    "\\begin{equation*}\n",
    "y = e^{-x} \\Rightarrow x = -\\ln y.\n",
    "\\end{equation*}\n",
    "\n",
    "Differentiating both sides with respect to $y$, we get:\n",
    "\n",
    "\\begin{equation*}\n",
    "\\frac{dx}{dy} = -\\frac{1}{y}.\n",
    "\\end{equation*}\n",
    "\n",
    "Now we can rewrite the integral in terms of the new variable $y$. Since $x = -\\ln y$, we have $x^3 = (-\\ln y)^3$. Also, we have $e^x - 1 = e^{-\\ln y} - 1 = y^{-1} - 1$. Thus, the integral becomes:\n",
    "\n",
    "\\begin{equation*}\n",
    "\\int_0^\\infty \\frac{x^3}{e^x - 1} \\, dx = \\int_1^0 \\frac{(-\\ln y)^3}{y^{-1} - 1} \\cdot \\left(-\\frac{1}{y}\\right) \\, dy.\n",
    "\\end{equation*}\n",
    "\n",
    "Since the bounds of the integral are flipped, we can change the sign and switch the bounds back:\n",
    "\n",
    "\\begin{equation*}\n",
    "\\int_0^\\infty \\frac{x^3}{e^x - 1} \\, dx = \\int_0^1 \\frac{(\\ln y)^3}{1 - y} \\cdot \\frac{1}{y} \\, dy.\n",
    "\\end{equation*}\n",
    "\n",
    "Now we have transformed the original infinite integral into a finite one with respect to the new variable $y$. The total energy per unit area radiated by a black body is given by:\n",
    "\n",
    "\\begin{equation*}\n",
    "W = \\frac{k_B^4 T^4}{4\\pi^2 c^2 \\hbar^3} \\int_0^1 \\frac{(\\ln y)^3}{1 - y} \\cdot \\frac{1}{y} \\, dy.\n",
    "\\end{equation*}"
   ]
  }
 ],
 "metadata": {
  "language_info": {
   "name": "python"
  },
  "orig_nbformat": 4
 },
 "nbformat": 4,
 "nbformat_minor": 2
}
